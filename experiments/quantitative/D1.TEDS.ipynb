{
 "cells": [
  {
   "attachments": {},
   "cell_type": "markdown",
   "metadata": {},
   "source": [
    "# Quantitative experiments with Turbofan Engine Degradation Simulation dataset\n",
    "This dataset contains information was designed to solve predictive maintenance problems. The dataset is accessible here: \n",
    "https://www.kaggle.com/datasets/behrad3d/nasa-cmaps"
   ]
  },
  {
   "cell_type": "code",
   "execution_count": 79,
   "metadata": {},
   "outputs": [],
   "source": [
    "import sys\n",
    "sys.path.append('C:\\\\Users\\\\iamollas\\\\Desktop\\\\Altruist New')\n",
    "model_path = 'C:\\\\Users\\\\iamollas\\\\Desktop\\\\Altruist New\\\\experiments\\\\quantitative\\\\Models\\\\D1\\\\'\n",
    "weights_path = 'C:\\\\Users\\\\iamollas\\\\Desktop\\\\Altruist New\\\\experiments\\\\quantitative\\\\Weights\\\\D1\\\\'"
   ]
  },
  {
   "cell_type": "code",
   "execution_count": 80,
   "metadata": {},
   "outputs": [],
   "source": [
    "import random\n",
    "import csv\n",
    "import warnings\n",
    "import json\n",
    "import lime.lime_tabular as lt\n",
    "from keras.callbacks import ModelCheckpoint\n",
    "from keras.layers import Dense\n",
    "import keras\n",
    "import keras.backend as K\n",
    "from keras.callbacks import ModelCheckpoint\n",
    "from keras.models import Model\n",
    "from keras.layers import Dense, Flatten, Input, Dropout, LSTM, concatenate, Reshape\n",
    "import json\n",
    "\n",
    "import keras\n",
    "from keras.models import Model\n",
    "from innvestigate.utils.keras import checks\n",
    "import innvestigate\n",
    "import innvestigate.utils as iutils\n",
    "from altruist import Altruist\n",
    "from meta_explain import MetaExplain\n",
    "from utilities.dataset import Dataset\n",
    "from sklearn.preprocessing import MinMaxScaler, maxabs_scale\n",
    "import numpy as np\n",
    "np.seterr(invalid='ignore')\n",
    "warnings.filterwarnings(\"ignore\")"
   ]
  },
  {
   "attachments": {},
   "cell_type": "markdown",
   "metadata": {},
   "source": [
    "We will now load our TEDS dataset"
   ]
  },
  {
   "cell_type": "code",
   "execution_count": 81,
   "metadata": {},
   "outputs": [],
   "source": [
    "teds = Dataset()\n",
    "x_train, y_train, x_test, y_test, feature_names = teds.load_data_turbofan()"
   ]
  },
  {
   "cell_type": "code",
   "execution_count": 82,
   "metadata": {},
   "outputs": [],
   "source": [
    "feature_names = ['s_02', 's_03', 's_04', 's_07', 's_08', 's_09', 's_11', 's_12',\n",
    "                 's_13', 's_14', 's_15', 's_17', 's_20', 's_21']"
   ]
  },
  {
   "cell_type": "code",
   "execution_count": 83,
   "metadata": {},
   "outputs": [],
   "source": [
    "temp_y_train = [[i] for i in y_train]\n",
    "temp_y_test = [[i] for i in y_test]\n",
    "target_scaler = MinMaxScaler()\n",
    "target_scaler.fit(temp_y_train)\n",
    "y_train = target_scaler.transform(temp_y_train)\n",
    "y_test = target_scaler.transform(temp_y_test)"
   ]
  },
  {
   "attachments": {},
   "cell_type": "markdown",
   "metadata": {},
   "source": [
    "And we will build two neural network models. One linear and one non-linear, and one uneccessary complex model."
   ]
  },
  {
   "cell_type": "code",
   "execution_count": 84,
   "metadata": {},
   "outputs": [],
   "source": [
    "import keras.backend as K\n",
    "def root_mean_squared_error(y_true, y_pred):\n",
    "    return K.sqrt(K.mean(K.square(y_pred - y_true)))"
   ]
  },
  {
   "cell_type": "code",
   "execution_count": 85,
   "metadata": {},
   "outputs": [],
   "source": [
    "linear_input = Input(shape=(x_train[0].shape))\n",
    "linear_hidden = Flatten()(linear_input)\n",
    "linear_output = Dense(1, activation='linear')(linear_hidden)\n",
    "linear_neural = Model(linear_input, linear_output)\n",
    "linear_neural.compile(optimizer='adam', loss=[\n",
    "                      root_mean_squared_error], metrics=['mae', 'mse'])\n",
    "\n",
    "neural_input = Input(shape=(x_train[0].shape))\n",
    "hidden_input = Reshape((14, 50))(neural_input)\n",
    "neural_r = []\n",
    "for i in range(14):\n",
    "    temp_hidden = LSTM(units=51, dropout=0.5,\n",
    "                       return_sequences=True, activation='tanh')(hidden_input)\n",
    "    temp_hidden = Dropout(0.5)(temp_hidden)\n",
    "    temp_hidden = LSTM(units=50, dropout=0.5,\n",
    "                       return_sequences=False, activation='tanh')(temp_hidden)\n",
    "    neural_r.append(temp_hidden)\n",
    "neural_hidden = concatenate(neural_r)\n",
    "neural_hidden = Dropout(0.5)(neural_hidden)\n",
    "neural_hidden = Dense(500, activation='tanh')(neural_hidden)  # Relu and selu\n",
    "neural_hidden = Dropout(0.5)(neural_hidden)\n",
    "neural_output = Dense(1, activation='linear')(neural_hidden)  # Relu and selu\n",
    "neural = Model(neural_input, neural_output)\n",
    "neural.compile(optimizer='adam', loss=[\n",
    "               root_mean_squared_error], metrics=['mae', 'mse'])\n",
    "\n",
    "complex_neural_input = Input(shape=(x_train[0].shape))\n",
    "complex_input = Reshape((14, 50))(complex_neural_input)\n",
    "complex_r = []\n",
    "for i in range(14):\n",
    "    complex_hidden = LSTM(\n",
    "        units=51, dropout=0.5, return_sequences=True, activation='tanh')(complex_input)\n",
    "    complex_hidden = Dropout(0.5)(complex_hidden)\n",
    "    complex_hidden = LSTM(\n",
    "        units=50, dropout=0.5, return_sequences=False, activation='relu')(complex_hidden)\n",
    "    complex_hidden = Dropout(0.5)(complex_hidden)\n",
    "    complex_hidden = Dense(units=50, activation='relu')(complex_hidden)\n",
    "    complex_r.append(complex_hidden)\n",
    "complex_net = concatenate(complex_r)\n",
    "complex_net = Dropout(0.5)(complex_net)\n",
    "complex_net = Dense(500, activation='tanh')(complex_net)\n",
    "complex_net = concatenate([complex_net, Flatten()(complex_neural_input)])\n",
    "complex_net = Dropout(0.5)(complex_net)\n",
    "complex_net = Dense(1000, activation='sigmoid')(complex_net)\n",
    "complex_net = Dropout(0.5)(complex_net)\n",
    "complex_output = Dense(1, activation='linear')(complex_net)\n",
    "complex_neural = Model(complex_neural_input, complex_output)\n",
    "complex_neural.compile(optimizer='adam', loss=[\n",
    "                       root_mean_squared_error], metrics=['mae', 'mse'])\n",
    "\n",
    "models = {'lNN': linear_neural, 'NN': neural, 'cNN': complex_neural}"
   ]
  },
  {
   "attachments": {},
   "cell_type": "markdown",
   "metadata": {},
   "source": [
    "Let's evaluate our models"
   ]
  },
  {
   "cell_type": "code",
   "execution_count": 86,
   "metadata": {},
   "outputs": [],
   "source": [
    "from sklearn.metrics import mean_absolute_error, mean_squared_error, r2_score\n",
    "from math import sqrt\n",
    "\n",
    "def compute_scores(name, y_test, y_pred):\n",
    "    temp_y_pred = target_scaler.inverse_transform(y_pred)\n",
    "    y_pred = np.array([i[0] for i in temp_y_pred])\n",
    "    print(name)\n",
    "    print('\\t', 'MAE:', mean_absolute_error(temp_y_test, y_pred))\n",
    "    print('\\t', 'MSE:', mean_squared_error(temp_y_test, y_pred))\n",
    "    print('\\t', 'RMSE:', sqrt(mean_squared_error(temp_y_test, y_pred)))\n",
    "    print('\\t', 'R2:', r2_score(temp_y_test, y_pred))"
   ]
  },
  {
   "cell_type": "code",
   "execution_count": 87,
   "metadata": {},
   "outputs": [
    {
     "name": "stdout",
     "output_type": "stream",
     "text": [
      "lNN\n",
      "\t MAE: 27.4459676816527\n",
      "\t MSE: 1367.2966335026808\n",
      "\t RMSE: 36.97697436922984\n",
      "\t R2: 0.49828356104652527\n",
      "NN\n",
      "\t MAE: 24.772757201740628\n",
      "\t MSE: 1260.1166593068872\n",
      "\t RMSE: 35.49812191238978\n",
      "\t R2: 0.537612228771599\n",
      "cNN\n",
      "\t MAE: 22.402879480157456\n",
      "\t MSE: 1069.820192553104\n",
      "\t RMSE: 32.70810591509548\n",
      "\t R2: 0.6074396994942856\n"
     ]
    }
   ],
   "source": [
    "train = False\n",
    "for name, model in models.items():\n",
    "    if train:\n",
    "        check_point = ModelCheckpoint(\n",
    "            \"D1_\"+name+\".hdf5\", monitor=\"val_loss\", verbose=0, save_best_only=True, mode=\"auto\")\n",
    "        model.fit(x_train, y_train, epochs=500, batch_size=512,\n",
    "                  validation_split=0.33, verbose=0, callbacks=[check_point])\n",
    "        model.load_weights(\"D1_\"+name+\".hdf5\")\n",
    "    else:\n",
    "        model.load_weights(model_path+\"D1_\"+name+\".hdf5\")\n",
    "    y_pred = model.predict(x_test)\n",
    "    compute_scores(name, y_test, y_pred)\n"
   ]
  },
  {
   "attachments": {},
   "cell_type": "markdown",
   "metadata": {},
   "source": [
    "We will prepare our predict functions to work well with our python scripts!"
   ]
  },
  {
   "cell_type": "code",
   "execution_count": 88,
   "metadata": {},
   "outputs": [],
   "source": [
    "def predict_cNN(x):\n",
    "    prediction = models['cNN'].predict(x)\n",
    "    return [i[0] for i in prediction]\n",
    "\n",
    "def predict_NN(x):\n",
    "    prediction = models['NN'].predict(x)\n",
    "    return [i[0] for i in prediction]\n",
    "\n",
    "def predict_lNN(x):\n",
    "    prediction = models['lNN'].predict(x)\n",
    "    return [i[0] for i in prediction]\n",
    "\n",
    "predict_functions = {'lNN': predict_lNN, 'NN': predict_NN, 'cNN': predict_cNN}"
   ]
  },
  {
   "attachments": {},
   "cell_type": "markdown",
   "metadata": {},
   "source": [
    "With the following function we generate Integrated Gradients and LRP explainers for a model"
   ]
  },
  {
   "cell_type": "code",
   "execution_count": 89,
   "metadata": {},
   "outputs": [],
   "source": [
    "def analyzer_generators(model):\n",
    "    Xs = iutils.to_list(model.outputs)\n",
    "    ret = []\n",
    "    for x in Xs:\n",
    "        layer, node_index, tensor_index = x._keras_history\n",
    "        if checks.contains_activation(layer, activation=\"linear\"):\n",
    "            if isinstance(layer, keras.layers.Activation):\n",
    "                ret.append(layer.get_input_at(node_index))\n",
    "            else:\n",
    "                layer_wo_act = innvestigate.utils.keras.graph.copy_layer_wo_activation(\n",
    "                    layer)\n",
    "                ret.append(layer_wo_act(layer.get_input_at(node_index)))\n",
    "    modified_model = Model(input=model.input, output=ret)\n",
    "    modified_model.trainable = False\n",
    "    modified_model.compile(optimizer='adam', loss=[\n",
    "                           root_mean_squared_error], metrics=['mae', 'mse'])\n",
    "    analyzer_IG = innvestigate.create_analyzer(\n",
    "        'integrated_gradients', modified_model, reference_inputs=16*[0])\n",
    "    analyzer_LRP = innvestigate.create_analyzer('lrp.z', modified_model)\n",
    "    return [analyzer_IG, analyzer_LRP]"
   ]
  },
  {
   "attachments": {},
   "cell_type": "markdown",
   "metadata": {},
   "source": [
    "We initiate these explainers for each of our models"
   ]
  },
  {
   "cell_type": "code",
   "execution_count": 90,
   "metadata": {},
   "outputs": [],
   "source": [
    "analyzer_NN = analyzer_generators(neural)\n",
    "analyzer_lNN = analyzer_generators(linear_neural)\n",
    "analyzer_cNN = analyzer_generators(complex_neural)"
   ]
  },
  {
   "cell_type": "code",
   "execution_count": 91,
   "metadata": {},
   "outputs": [],
   "source": [
    "x_train_flat = x_train.copy().reshape((len(x_train), 700))\n",
    "flat_features = [str('F_'+str(i)) for i in range(700)]"
   ]
  },
  {
   "attachments": {},
   "cell_type": "markdown",
   "metadata": {},
   "source": [
    "We prepare each interpretation technique to have the same format!"
   ]
  },
  {
   "cell_type": "code",
   "execution_count": 92,
   "metadata": {},
   "outputs": [],
   "source": [
    "def fi_lNN(instance, predict_function):\n",
    "    return [i[0] for i in models['lNN'].get_weights()[0]]\n",
    "\n",
    "def fi_IG_NN(instance, predict_function):\n",
    "    a = analyzer_NN[0].analyze(np.array([instance]))[0]\n",
    "    a = a.reshape((700))\n",
    "    return a.tolist()\n",
    "\n",
    "def fi_LRP_NN(instance, predict_function):\n",
    "    a = analyzer_NN[1].analyze(np.array([instance]))[0]\n",
    "    a = a.reshape((700))\n",
    "    return a.tolist()\n",
    "\n",
    "def fi_IG_lNN(instance, predict_function):\n",
    "    a = analyzer_lNN[0].analyze(np.array([instance]))[0]\n",
    "    a = a.reshape((700))\n",
    "    return a.tolist()\n",
    "\n",
    "def fi_LRP_lNN(instance, predict_function):\n",
    "    a = analyzer_lNN[1].analyze(np.array([instance]))[0]\n",
    "    a = a.reshape((700))\n",
    "    return a.tolist()\n",
    "\n",
    "def fi_IG_cNN(instance, predict_function):\n",
    "    a = analyzer_cNN[0].analyze(np.array([instance]))[0]\n",
    "    a = a.reshape((700))\n",
    "    return a.tolist()\n",
    "\n",
    "def fi_LRP_cNN(instance, predict_function):\n",
    "    a = analyzer_cNN[1].analyze(np.array([instance]))[0]\n",
    "    a = a.reshape((700))\n",
    "    return a.tolist()\n",
    "\n",
    "explainer = lt.LimeTabularExplainer(training_data=x_train_flat,\n",
    "                                    feature_names=flat_features,\n",
    "                                    discretize_continuous=False, mode='regression')\n",
    "\n",
    "def fi_lime(instance, predict_function):\n",
    "    def predict(x):\n",
    "        return np.array([i for i in predict_function(x.reshape((len(x), 50, 14)))])\n",
    "    b = explainer.explain_instance(instance.reshape((700)), predict, num_samples=1000,\n",
    "                                   num_features=len(list(flat_features)))[0].local_exp\n",
    "    b = b[list(b.keys())[0]]\n",
    "    b.sort()\n",
    "    return [i[1] for i in list(b)]\n",
    "\n",
    "def fi_random(instance, predict_function):\n",
    "    a1 = instance.reshape((700))\n",
    "    seed = (a1.sum() +\n",
    "            a1.mean())/10\n",
    "    random.seed(seed)\n",
    "    return [random.randrange(-1000, 1000)/1000 for i in range(len(flat_features))]"
   ]
  },
  {
   "attachments": {},
   "cell_type": "markdown",
   "metadata": {},
   "source": [
    "We compute and save the interpretations for easier reproducibility"
   ]
  },
  {
   "cell_type": "code",
   "execution_count": 17,
   "metadata": {},
   "outputs": [],
   "source": [
    "from sklearn.preprocessing import MaxAbsScaler\n",
    "for neural_name, neural_type in predict_functions.items():\n",
    "    if neural_name == 'lNN':\n",
    "        fi_techniques = [fi_lNN, fi_IG_lNN, fi_LRP_lNN, fi_lime, fi_random]\n",
    "        fi_names = ['Inherent', 'IG', 'LRP', 'LIME', 'RAND']\n",
    "    elif neural_name == 'NN':\n",
    "        fi_techniques = [fi_IG_NN, fi_LRP_NN, fi_lime, fi_random]\n",
    "        fi_names = ['IG', 'LRP', 'LIME', 'RAND']\n",
    "    else:\n",
    "        fi_techniques = [fi_IG_cNN, fi_LRP_cNN, fi_lime, fi_random]\n",
    "        fi_names = ['IG', 'LRP', 'LIME', 'RAND']\n",
    "\n",
    "    importance_train = []\n",
    "    for instance in x_train:\n",
    "        importance_instance = []\n",
    "        for fi in fi_techniques:\n",
    "            importance_instance.append(maxabs_scale(fi(instance, neural_type)))\n",
    "        importance_train.append(importance_instance)\n",
    "    importance_train = np.array(importance_train)\n",
    "\n",
    "    importance_test = []\n",
    "    for instance in x_test:\n",
    "        importance_instance = []\n",
    "        for fi in fi_techniques:\n",
    "            importance_instance.append(maxabs_scale(fi(instance, neural_type)))\n",
    "        importance_test.append(importance_instance)\n",
    "    importance_test = np.array(importance_test)\n",
    "\n",
    "    importances = {'train': importance_train.tolist(),\n",
    "                   'test': importance_test.tolist()}\n",
    "    with open('D1_'+neural_name+'.txt', 'w') as outfile:\n",
    "        json.dump(importances, outfile)"
   ]
  },
  {
   "attachments": {},
   "cell_type": "markdown",
   "metadata": {},
   "source": [
    "Our quantitative experiments!"
   ]
  },
  {
   "attachments": {},
   "cell_type": "markdown",
   "metadata": {},
   "source": [
    "Starting with stability! First, we calculate stability for the techniques"
   ]
  },
  {
   "cell_type": "code",
   "execution_count": 93,
   "metadata": {},
   "outputs": [],
   "source": [
    "from inxai import *\n",
    "gm = GlobalFeatureMetric()"
   ]
  },
  {
   "cell_type": "code",
   "execution_count": 33,
   "metadata": {},
   "outputs": [
    {
     "name": "stdout",
     "output_type": "stream",
     "text": [
      "lNN\n",
      "Inherent 1.0\n",
      "IG 0.5472611448448466\n",
      "LRP 0.5472613508372738\n",
      "LIME 0.8827196335774936\n",
      "RAND 0.1226924686983951\n",
      "NN\n",
      "IG 0.4335826292356411\n",
      "LRP 0.2420931505494108\n",
      "LIME 0.35764355702709877\n",
      "RAND 0.1226924686983951\n",
      "cNN\n",
      "IG 0.44254492157659747\n",
      "LRP 0.1871609435774639\n",
      "LIME 0.3720531362075941\n",
      "RAND 0.1226924686983951\n"
     ]
    }
   ],
   "source": [
    "stability = {}\n",
    "for neural_name, neural_type in predict_functions.items():\n",
    "    if neural_name == 'lNN':\n",
    "        fi_techniques = [fi_lNN, fi_IG_lNN, fi_LRP_lNN, fi_lime, fi_random]\n",
    "        fi_names = ['Inherent', 'IG', 'LRP', 'LIME', 'RAND']\n",
    "    elif neural_name == 'NN':\n",
    "        fi_techniques = [fi_IG_NN, fi_LRP_NN, fi_lime, fi_random]\n",
    "        fi_names = ['IG', 'LRP', 'LIME', 'RAND']\n",
    "    else:\n",
    "        fi_techniques = [fi_IG_cNN, fi_LRP_cNN, fi_lime, fi_random]\n",
    "        fi_names = ['IG', 'LRP', 'LIME', 'RAND']\n",
    "    meta_names = ['Average', 'Median', 'RuleBased']\n",
    "\n",
    "    with open(weights_path+'D1_'+neural_name+'.txt') as json_file:\n",
    "        importances = json.load(json_file)\n",
    "    importance_train = np.array(importances['train'])\n",
    "    importance_test = np.array(importances['test'])\n",
    "    meta_explain = MetaExplain(importance_train, flat_features)\n",
    "\n",
    "    model_stability = []\n",
    "    for idf,fi_name in enumerate(fi_names):\n",
    "        model_stability.append(gm.stability(pd.DataFrame(x_test.reshape((len(x_test),700))),\n",
    "                                            importance_test[:,idf,:] ,epsilon=3))\n",
    "    stability[neural_name] = model_stability\n",
    "    \n",
    "    print(neural_name)\n",
    "    for idf, stability_score in enumerate(stability[neural_name]):\n",
    "        print(fi_names[idf], np.mean(stability_score))"
   ]
  },
  {
   "cell_type": "code",
   "execution_count": 36,
   "metadata": {},
   "outputs": [
    {
     "name": "stdout",
     "output_type": "stream",
     "text": [
      "Starting evaluation for lNN\n",
      "Average 0.4085841105718534\n",
      "Median 0.5331231712395894\n",
      "RuleBased 0.5236872470424525\n",
      "Starting evaluation for NN\n",
      "Average 0.3408131490683045\n",
      "Median 0.3394097448598858\n",
      "RuleBased 0.37873233891676067\n",
      "Starting evaluation for cNN\n",
      "Average 0.3217044803567875\n",
      "Median 0.29577670762027564\n",
      "RuleBased 0.3909713871399417\n"
     ]
    }
   ],
   "source": [
    "meta_interpretations_test = {}\n",
    "stability_meta = {}\n",
    "for neural_name, neural_type in predict_functions.items():\n",
    "    if neural_name == 'lNN':\n",
    "        fi_techniques = [fi_lNN, fi_IG_lNN, fi_LRP_lNN, fi_lime, fi_random]\n",
    "        fi_names = ['Inherent', 'IG', 'LRP', 'LIME', 'RAND']\n",
    "        meta_interpretations_test['lNN'] = []\n",
    "    elif neural_name == 'NN':\n",
    "        fi_techniques = [fi_IG_NN, fi_LRP_NN, fi_lime, fi_random]\n",
    "        fi_names = ['IG', 'LRP', 'LIME', 'RAND']\n",
    "        meta_interpretations_test['NN'] = []\n",
    "    else:\n",
    "        fi_techniques = [fi_IG_cNN, fi_LRP_cNN, fi_lime, fi_random]\n",
    "        fi_names = ['IG', 'LRP', 'LIME', 'RAND']\n",
    "        meta_interpretations_test['cNN'] = []\n",
    "    meta_names = ['Average', 'Median', 'RuleBased']\n",
    "\n",
    "    with open(weights_path+'D1_'+neural_name+'.txt') as json_file:\n",
    "        importances = json.load(json_file)\n",
    "    importance_train = np.array(importances['train'])\n",
    "    importance_test = np.array(importances['test'])\n",
    "    meta_explain = MetaExplain(importance_train, flat_features)\n",
    "\n",
    "    print('Starting evaluation for', neural_name)\n",
    "    noise = 'normal'\n",
    "    delta = 0.0001\n",
    "\n",
    "    my_altruist = Altruist(neural_type, x_train, fi_techniques,\n",
    "                                   flat_features, level=noise, delta=delta)\n",
    "    for j in range(len(x_test)):\n",
    "        my_altruist.fis = len(fi_techniques)\n",
    "        a = my_altruist.find_untruthful(x_test[j], importance_test[j])\n",
    "        b = np.array(a[-1])\n",
    "\n",
    "        temp_meta = []\n",
    "        temp_meta.append(meta_explain.meta_avg(b))\n",
    "        temp_meta.append(meta_explain.meta_median(b))\n",
    "        temp_meta.append(meta_explain.meta_rule_based(a[0], a[2], b))\n",
    "        meta_interpretations_test[neural_name].append(temp_meta)\n",
    "    \n",
    "    model_stability = []\n",
    "    for idf,meta_name in enumerate(meta_names):\n",
    "        model_stability.append(gm.stability(pd.DataFrame(x_test.reshape((len(x_test),700))),\n",
    "        np.array(meta_interpretations_test[neural_name])[:,idf,:] ,epsilon=3))\n",
    "    stability_meta[neural_name] = model_stability\n",
    "\n",
    "    for idf, stability_score in enumerate(stability_meta[neural_name]):\n",
    "        print(meta_names[idf], np.mean(stability_score))"
   ]
  },
  {
   "cell_type": "code",
   "execution_count": null,
   "metadata": {},
   "outputs": [],
   "source": [
    "predict_functions = {'lNN': predict_lNN, 'NN': predict_NN, 'cNN': predict_cNN}\n",
    "for neural_name, neural_type in predict_functions.items():\n",
    "    if neural_name == 'lNN':\n",
    "        fi_techniques = [fi_lNN, fi_IG_lNN, fi_LRP_lNN, fi_lime, fi_random]\n",
    "        fi_names = ['Inherent', 'IG', 'LRP', 'LIME', 'RAND']\n",
    "    elif neural_name == 'NN':\n",
    "        fi_techniques = [fi_IG_NN, fi_LRP_NN, fi_lime, fi_random]\n",
    "        fi_names = ['IG', 'LRP', 'LIME', 'RAND']\n",
    "    else:\n",
    "        fi_techniques = [fi_IG_cNN, fi_LRP_cNN, fi_lime, fi_random]\n",
    "        fi_names = ['IG', 'LRP', 'LIME', 'RAND']\n",
    "    meta_names = ['Average', 'Median', 'RuleBased']\n",
    "\n",
    "    with open(weights_path+'D1_'+neural_name+'.txt') as json_file:\n",
    "        importances = json.load(json_file)\n",
    "    importance_train = np.array(importances['train'])\n",
    "    importance_test = np.array(importances['test'])\n",
    "    meta_explain = MetaExplain(importance_train, flat_features)\n",
    "\n",
    "    print('Starting evaluation for', neural_name)\n",
    "    for noise in ['weak', 'normal', 'strong']:\n",
    "        for delta in [0, 0.0001, 0.001, 0.01]:\n",
    "            my_altruist = Altruist(neural_type, x_train, fi_techniques,\n",
    "                                   flat_features, level=noise, delta=delta)\n",
    "            fis_scores = []\n",
    "            meta_scores = []\n",
    "            nzw_scores = []\n",
    "            nzw_scores_delta = []\n",
    "            for i in fi_techniques:\n",
    "                fis_scores.append([])\n",
    "                nzw_scores.append([])\n",
    "                nzw_scores_delta.append([])\n",
    "            for i in meta_names:\n",
    "                meta_scores.append([])\n",
    "                nzw_scores.append([])\n",
    "                nzw_scores_delta.append([])\n",
    "            for j in range(len(x_test)):\n",
    "                my_altruist.fis = len(fi_techniques)\n",
    "                a = my_altruist.find_untruthful(x_test[j], importance_test[j])\n",
    "                for i in range(len(importance_test[j])):\n",
    "                    cnzw = 0\n",
    "                    cnzwt = 0\n",
    "                    for k in importance_test[j][i]:\n",
    "                        if abs(k) > 0:\n",
    "                            cnzw += 1\n",
    "                        if abs(k) > delta:\n",
    "                            cnzwt += 1\n",
    "                    nzw_scores[i].append(cnzw)\n",
    "                    nzw_scores_delta[i].append(cnzwt)\n",
    "                b = np.array(a[-1])\n",
    "                for i in range(len(a[0])):\n",
    "                    fis_scores[i].append(len(a[0][i]))\n",
    "                temp_meta = []\n",
    "                temp_meta.append(meta_explain.meta_avg(b))\n",
    "                temp_meta.append(meta_explain.meta_median(b))\n",
    "                temp_meta.append(meta_explain.meta_rule_based(a[0], a[2], b))\n",
    "                for i in range(len(temp_meta)):\n",
    "                    cnzw = 0\n",
    "                    cnzwt = 0\n",
    "                    for k in temp_meta[i]:\n",
    "                        if abs(k) > 0:\n",
    "                            cnzw += 1\n",
    "                        if abs(k) > delta:\n",
    "                            cnzwt += 1\n",
    "                    nzw_scores[i+len(importance_test[j])].append(cnzw)\n",
    "                    nzw_scores_delta[i+len(importance_test[j])].append(cnzwt)\n",
    "                my_altruist.fis = len(meta_names)\n",
    "                a = my_altruist.find_untruthful(x_test[j], temp_meta)\n",
    "                for i in range(len(a[0])):\n",
    "                    meta_scores[i].append(len(a[0][i]))\n",
    "            row = [neural_name, noise, delta]\n",
    "            for fis_score in fis_scores:\n",
    "                row.append(np.array(fis_score).mean())\n",
    "            for meta_score in meta_scores:\n",
    "                row.append(np.array(meta_score).mean())\n",
    "            with open('D1_'+neural_name+'.csv', 'a', encoding='UTF8') as f:\n",
    "                writer = csv.writer(f)\n",
    "                writer.writerow(row)\n",
    "            row = [neural_name, noise, delta]\n",
    "            all_names = fi_names+meta_names\n",
    "            for aname in range(len(all_names)):\n",
    "                row.append(np.array(nzw_scores[aname]).mean())\n",
    "                row.append(np.array(nzw_scores_delta[aname]).mean())\n",
    "            with open('D1_NZW_'+neural_name+'.csv', 'a', encoding='UTF8') as f:\n",
    "                writer = csv.writer(f)\n",
    "                writer.writerow(row)"
   ]
  },
  {
   "attachments": {},
   "cell_type": "markdown",
   "metadata": {},
   "source": [
    "We will evaluate the interpretations on the Sensor level as well. "
   ]
  },
  {
   "cell_type": "code",
   "execution_count": 139,
   "metadata": {},
   "outputs": [
    {
     "name": "stderr",
     "output_type": "stream",
     "text": [
      "5it [30:22, 364.42s/it]\n"
     ]
    },
    {
     "name": "stdout",
     "output_type": "stream",
     "text": [
      "lNN\n",
      "Inherent 1.0\n",
      "IG 0.7754069242128709\n",
      "LRP 0.7754069925125184\n",
      "LIME 0.9768406586793216\n",
      "RAND 0.6236217689799591\n"
     ]
    },
    {
     "name": "stderr",
     "output_type": "stream",
     "text": [
      "4it [28:52, 433.17s/it]\n"
     ]
    },
    {
     "name": "stdout",
     "output_type": "stream",
     "text": [
      "NN\n",
      "IG 0.7398262757875596\n",
      "LRP 0.5604877958811235\n",
      "LIME 0.8696876084631823\n",
      "RAND 0.6236217689799591\n"
     ]
    },
    {
     "name": "stderr",
     "output_type": "stream",
     "text": [
      "4it [28:41, 430.35s/it]"
     ]
    },
    {
     "name": "stdout",
     "output_type": "stream",
     "text": [
      "cNN\n",
      "IG 0.796563454172929\n",
      "LRP 0.6788027322776082\n",
      "LIME 0.8775863495137214\n",
      "RAND 0.6236217689799591\n"
     ]
    },
    {
     "name": "stderr",
     "output_type": "stream",
     "text": [
      "\n"
     ]
    }
   ],
   "source": [
    "from tqdm import tqdm\n",
    "\n",
    "stability = {}\n",
    "for neural_name, neural_type in predict_functions.items():\n",
    "    if neural_name == 'lNN':\n",
    "        fi_techniques = [fi_lNN, fi_IG_lNN, fi_LRP_lNN, fi_lime, fi_random]\n",
    "        fi_names = ['Inherent', 'IG', 'LRP', 'LIME', 'RAND']\n",
    "    elif neural_name == 'NN':\n",
    "        fi_techniques = [fi_IG_NN, fi_LRP_NN, fi_lime, fi_random]\n",
    "        fi_names = ['IG', 'LRP', 'LIME', 'RAND']\n",
    "    else:\n",
    "        fi_techniques = [fi_IG_cNN, fi_LRP_cNN, fi_lime, fi_random]\n",
    "        fi_names = ['IG', 'LRP', 'LIME', 'RAND']\n",
    "    meta_names = ['Average', 'Median', 'RuleBased']\n",
    "\n",
    "    with open(weights_path+'D1_'+neural_name+'.txt') as json_file:\n",
    "        importances = json.load(json_file)\n",
    "    importance_test = np.array(importances['test'])\n",
    "    importance_test_temp = []\n",
    "    for i in importance_test[:1000]:\n",
    "        importance_test_temp.append(i.reshape((len(i), 50, 14)).mean(axis=1))\n",
    "    importance_test = np.array(importance_test_temp)\n",
    "\n",
    "    sensor_names = [str('F_'+str(i)) for i in range(14)]\n",
    "\n",
    "    #meta_explain = MetaExplain(importance_train, sensor_names)\n",
    "\n",
    "    model_stability = []\n",
    "    for idf,fi_name in tqdm(enumerate(fi_names)):\n",
    "        model_stability.append(gm.stability(pd.DataFrame(x_test[:1000].mean(axis=1)),\n",
    "                                            importance_test[:,idf,:] ,epsilon=3))\n",
    "    stability[neural_name] = model_stability\n",
    "    \n",
    "    print(neural_name)\n",
    "    for idf, stability_score in enumerate(stability[neural_name]):\n",
    "        print(fi_names[idf], np.mean(stability_score))"
   ]
  },
  {
   "cell_type": "code",
   "execution_count": 140,
   "metadata": {},
   "outputs": [
    {
     "name": "stdout",
     "output_type": "stream",
     "text": [
      "Starting evaluation for lNN\n",
      "Average 0.8730950784328496\n",
      "Median 0.875125988379947\n",
      "RuleBased 0.6637796813569781\n",
      "Starting evaluation for NN\n",
      "Average 0.7950506213069923\n",
      "Median 0.8020430809623137\n",
      "RuleBased 0.723609150373512\n",
      "Starting evaluation for cNN\n",
      "Average 0.8441905393598813\n",
      "Median 0.8272401586232013\n",
      "RuleBased 0.7946388878535836\n"
     ]
    }
   ],
   "source": [
    "meta_interpretations_test = {}\n",
    "stability_meta = {}\n",
    "for neural_name, neural_type in predict_functions.items():\n",
    "    if neural_name == 'lNN':\n",
    "        fi_techniques = [fi_lNN, fi_IG_lNN, fi_LRP_lNN, fi_lime, fi_random]\n",
    "        fi_names = ['Inherent', 'IG', 'LRP', 'LIME', 'RAND']\n",
    "        meta_interpretations_test['lNN'] = []\n",
    "    elif neural_name == 'NN':\n",
    "        fi_techniques = [fi_IG_NN, fi_LRP_NN, fi_lime, fi_random]\n",
    "        fi_names = ['IG', 'LRP', 'LIME', 'RAND']\n",
    "        meta_interpretations_test['NN'] = []\n",
    "    else:\n",
    "        fi_techniques = [fi_IG_cNN, fi_LRP_cNN, fi_lime, fi_random]\n",
    "        fi_names = ['IG', 'LRP', 'LIME', 'RAND']\n",
    "        meta_interpretations_test['cNN'] = []\n",
    "    meta_names = ['Average', 'Median', 'RuleBased']\n",
    "\n",
    "    with open(weights_path+'D1_'+neural_name+'.txt') as json_file:\n",
    "        importances = json.load(json_file)\n",
    "    importance_train = np.array(importances['train'])\n",
    "    importance_train_temp = []\n",
    "    importance_test = np.array(importances['test'])\n",
    "    importance_test_temp = []\n",
    "    for i in importance_train:\n",
    "        importance_train_temp.append(i.reshape((len(i), 50, 14)).mean(axis=1))\n",
    "    for i in importance_test[:1000]:\n",
    "        importance_test_temp.append(i.reshape((len(i), 50, 14)).mean(axis=1))\n",
    "    importance_train = np.array(importance_train_temp)\n",
    "    importance_test = np.array(importance_test_temp)\n",
    "\n",
    "    print('Starting evaluation for', neural_name)\n",
    "    noise = 'normal'\n",
    "    delta = 0.0001\n",
    "    sensor_names = [str('F_'+str(i)) for i in range(14)]\n",
    "\n",
    "    meta_explain = MetaExplain(importance_train, sensor_names)\n",
    "\n",
    "    my_altruist = Altruist(neural_type, x_train, fi_techniques,\n",
    "                                   sensor_names, level=noise, delta=delta, data_type='per Sensor')\n",
    "    for j in range(len(x_test[:1000])):\n",
    "        my_altruist.fis = len(fi_techniques)\n",
    "        a = my_altruist.find_untruthful(x_test[j], importance_test[j])\n",
    "        b = np.array(a[-1])\n",
    "\n",
    "        temp_meta = []\n",
    "        temp_meta.append(meta_explain.meta_avg(b))\n",
    "        temp_meta.append(meta_explain.meta_median(b))\n",
    "        temp_meta.append(meta_explain.meta_rule_based(a[0], a[2], b))\n",
    "        meta_interpretations_test[neural_name].append(temp_meta)\n",
    "    \n",
    "    model_stability = []\n",
    "    for idf,meta_name in enumerate(meta_names):\n",
    "        model_stability.append(gm.stability(pd.DataFrame(x_test[:1000].mean(axis=1)),\n",
    "        np.array(meta_interpretations_test[neural_name])[:,idf,:] ,epsilon=3))\n",
    "    stability_meta[neural_name] = model_stability\n",
    "\n",
    "    for idf, stability_score in enumerate(stability_meta[neural_name]):\n",
    "        print(meta_names[idf], np.mean(stability_score))"
   ]
  },
  {
   "cell_type": "code",
   "execution_count": 141,
   "metadata": {},
   "outputs": [
    {
     "data": {
      "text/plain": [
       "<matplotlib.axes._subplots.AxesSubplot at 0x25986346a88>"
      ]
     },
     "execution_count": 141,
     "metadata": {},
     "output_type": "execute_result"
    },
    {
     "data": {
      "image/png": "[encoded data removed]",
      "text/plain": [
       "<Figure size 432x288 with 1 Axes>"
      ]
     },
     "metadata": {
      "needs_background": "light"
     },
     "output_type": "display_data"
    }
   ],
   "source": [
    "import seaborn as sns\n",
    "lip_df = pd.DataFrame({'IG':stability['cNN'][0], 'LRP':stability['cNN'][1], 'LIME':stability['cNN'][2], # 'RAND':stability['cNN'][3], \n",
    "                        'Average':stability_meta['cNN'][0], 'Median':stability_meta['cNN'][1], 'MetaLion':stability_meta['cNN'][2]})\n",
    "sns.boxplot(x=\"variable\", y=\"value\", data=pd.melt(lip_df))"
   ]
  },
  {
   "cell_type": "code",
   "execution_count": 142,
   "metadata": {},
   "outputs": [],
   "source": [
    "lip_df_lnn = pd.DataFrame({'IG':stability['lNN'][1], 'LRP':stability['lNN'][2], 'LIME':stability['lNN'][3], 'RAND':stability['lNN'][4]})\n",
    "lip_df_nn = pd.DataFrame({'IG':stability['NN'][0], 'LRP':stability['NN'][1], 'LIME':stability['NN'][2], 'RAND':stability['NN'][3]})\n",
    "lip_df_cnn = pd.DataFrame({'IG':stability['cNN'][0], 'LRP':stability['cNN'][1], 'LIME':stability['cNN'][2], 'RAND':stability['cNN'][3]})"
   ]
  },
  {
   "attachments": {},
   "cell_type": "markdown",
   "metadata": {},
   "source": [
    "## Measure consistency!"
   ]
  },
  {
   "cell_type": "code",
   "execution_count": 148,
   "metadata": {},
   "outputs": [
    {
     "name": "stdout",
     "output_type": "stream",
     "text": [
      "IG 0.11258650447913647\n",
      "LRP 0.0871944291161526\n",
      "LIME 0.10901834747484684\n",
      "RAND 1.0\n"
     ]
    }
   ],
   "source": [
    "consistency = {}\n",
    "for idf,fi_name in enumerate(['IG', 'LRP', 'LIME', 'RAND']):\n",
    "    all_importance_tests = []\n",
    "    for neural_name, neural_type in predict_functions.items():\n",
    "\n",
    "        with open(weights_path+'D1_'+neural_name+'.txt') as json_file:\n",
    "            importances = json.load(json_file)\n",
    "        importance_test_temp = []\n",
    "        importance_test = np.array(importances['test'])\n",
    "        for i in importance_test[:1000]:\n",
    "            importance_test_temp.append(i.reshape((len(i), 50, 14)).mean(axis=1))\n",
    "        importance_test = np.array(importance_test_temp)\n",
    "        if neural_name == 'lNN':\n",
    "            all_importance_tests.append(np.array(importances['test'])[:1000,1:,:])\n",
    "        else:\n",
    "            all_importance_tests.append(np.array(importances['test'][:1000]))\n",
    "        #meta_explain = MetaExplain(importance_train, feature_names)\n",
    "    all_importance_tests = np.array(all_importance_tests)\n",
    "    consistency[fi_name] = gm.consistency(all_importance_tests[:,:,idf,:])\n",
    "    print(fi_name, np.mean(consistency[fi_name]))"
   ]
  },
  {
   "cell_type": "code",
   "execution_count": 149,
   "metadata": {},
   "outputs": [
    {
     "name": "stdout",
     "output_type": "stream",
     "text": [
      "Average 0.7706064399744632\n",
      "Median 0.6348928652997506\n",
      "RuleBased 0.6435878756302303\n"
     ]
    }
   ],
   "source": [
    "consistency_meta = {}\n",
    "for idf, meta_name in enumerate(meta_names):\n",
    "    all_importance_tests = []\n",
    "    for neural_name, neural_type in predict_functions.items():\n",
    "        all_importance_tests.append(np.array(meta_interpretations_test[neural_name]))\n",
    "    all_importance_tests = np.array(all_importance_tests)\n",
    "    consistency_meta[meta_name] = gm.consistency(all_importance_tests[:,:,idf,:])\n",
    "    print(meta_name, np.mean(consistency_meta[meta_name]))"
   ]
  },
  {
   "cell_type": "code",
   "execution_count": 150,
   "metadata": {},
   "outputs": [
    {
     "data": {
      "text/plain": [
       "1000"
      ]
     },
     "execution_count": 150,
     "metadata": {},
     "output_type": "execute_result"
    }
   ],
   "source": [
    "len(consistency['IG'])"
   ]
  },
  {
   "cell_type": "code",
   "execution_count": 151,
   "metadata": {},
   "outputs": [
    {
     "data": {
      "text/plain": [
       "<matplotlib.axes._subplots.AxesSubplot at 0x25ac75bde48>"
      ]
     },
     "execution_count": 151,
     "metadata": {},
     "output_type": "execute_result"
    },
    {
     "data": {
      "image/png": "[encoded data removed]",
      "text/plain": [
       "<Figure size 432x288 with 1 Axes>"
      ]
     },
     "metadata": {
      "needs_background": "light"
     },
     "output_type": "display_data"
    }
   ],
   "source": [
    "import seaborn as sns\n",
    "con_df = pd.DataFrame({'IG':consistency['IG'], 'LRP':consistency['LRP'], 'LIME':consistency['LIME'], #'RAND':consistency['RAND'], \n",
    "                        'Average':consistency_meta['Average'], 'Median':consistency_meta['Median'], 'MetaLion':consistency_meta['RuleBased']})\n",
    "sns.boxplot(x=\"variable\", y=\"value\", data=pd.melt(con_df))"
   ]
  },
  {
   "cell_type": "code",
   "execution_count": 153,
   "metadata": {},
   "outputs": [],
   "source": [
    "import seaborn as sns\n",
    "con_df_models = pd.DataFrame({'IG':consistency['IG'], 'LRP':consistency['LRP'], 'LIME':consistency['LIME'], 'RAND':consistency['RAND']})\n",
    "    "
   ]
  },
  {
   "attachments": {},
   "cell_type": "markdown",
   "metadata": {},
   "source": [
    "#This is a tough one! Measuring AUPRC for the meta in inXAI technique"
   ]
  },
  {
   "cell_type": "code",
   "execution_count": 155,
   "metadata": {},
   "outputs": [
    {
     "name": "stderr",
     "output_type": "stream",
     "text": []
    },
    {
     "name": "stdout",
     "output_type": "stream",
     "text": [
      "(1000, 5, 700)\n",
      "Starting evaluation for lNN\n"
     ]
    },
    {
     "name": "stderr",
     "output_type": "stream",
     "text": [
      "5it [08:28, 101.64s/it]\n"
     ]
    },
    {
     "name": "stdout",
     "output_type": "stream",
     "text": [
      "(1000, 4, 700)\n",
      "Starting evaluation for NN\n"
     ]
    },
    {
     "name": "stderr",
     "output_type": "stream",
     "text": [
      "4it [1:20:58, 1214.57s/it]\n"
     ]
    },
    {
     "name": "stdout",
     "output_type": "stream",
     "text": [
      "(1000, 4, 700)\n",
      "Starting evaluation for cNN\n"
     ]
    },
    {
     "name": "stderr",
     "output_type": "stream",
     "text": [
      "4it [1:31:44, 1376.08s/it]\n"
     ]
    }
   ],
   "source": [
    "from sklearn.compose import ColumnTransformer\n",
    "pd_x_test = pd.DataFrame(x_test[:1000].reshape((len(x_test[:1000]),700)), columns=flat_features)\n",
    "ct = ColumnTransformer([('_INXAI_normal_noise_perturber', NormalNoisePerturber(scale=2),pd_x_test.columns)])\n",
    "auprc = {}\n",
    "for neural_name, neural_type in predict_functions.items():\n",
    "    if neural_name == 'lNN':\n",
    "        fi_techniques = [fi_lNN, fi_IG_lNN, fi_LRP_lNN, fi_lime, fi_random]\n",
    "        fi_names = ['Inherent', 'IG', 'LRP', 'LIME', 'RAND']\n",
    "    elif neural_name == 'NN':\n",
    "        fi_techniques = [fi_IG_NN, fi_LRP_NN, fi_lime, fi_random]\n",
    "        fi_names = ['IG', 'LRP', 'LIME', 'RAND']\n",
    "    else:\n",
    "        fi_techniques = [fi_IG_cNN, fi_LRP_cNN, fi_lime, fi_random]\n",
    "        fi_names = ['IG', 'LRP', 'LIME', 'RAND']\n",
    "    meta_names = ['Average', 'Median', 'RuleBased']\n",
    "\n",
    "    with open(weights_path+'D1_'+neural_name+'.txt') as json_file:\n",
    "        importances = json.load(json_file)\n",
    "    importance_test = np.array(importances['test'])[:1000]\n",
    "    print(importance_test.shape)\n",
    "    print('Starting evaluation for', neural_name)\n",
    "    model_auprc = []\n",
    "    for idf,fi_name in tqdm(enumerate(fi_names)):\n",
    "        mean_fi = importance_test[:,idf,:].mean(axis=0)\n",
    "        model_auprc.append(gm.gradual_perturbation(model=models[neural_name], X=pd_x_test, y=y_test[:1000], column_transformer=ct, importances_orig=mean_fi, \n",
    "                                        resolution=50,  count_per_step=10, plot=False, task='r', reshape=(50,14)))\n",
    "    auprc[neural_name] = model_auprc"
   ]
  },
  {
   "cell_type": "code",
   "execution_count": 156,
   "metadata": {},
   "outputs": [
    {
     "name": "stdout",
     "output_type": "stream",
     "text": [
      "lNN\n",
      "Inherent 198.78001759133895\n",
      "IG 198.72447586550163\n",
      "LRP 200.1155860640735\n",
      "LIME 201.2579751175869\n",
      "RAND 199.44617678597345\n",
      "NN\n",
      "IG 18.61691716734181\n",
      "LRP 18.68428245110465\n",
      "LIME 18.717886467914365\n",
      "RAND 18.677940928682705\n",
      "cNN\n",
      "IG 9.180022796778584\n",
      "LRP 9.277766039359863\n",
      "LIME 9.22172752775051\n",
      "RAND 9.282237353272976\n"
     ]
    }
   ],
   "source": [
    "for neural_name, neural_type in predict_functions.items():\n",
    "    if neural_name == 'lNN':\n",
    "        fi_techniques = [fi_lNN, fi_IG_lNN, fi_LRP_lNN, fi_lime, fi_random]\n",
    "        fi_names = ['Inherent', 'IG', 'LRP', 'LIME', 'RAND']\n",
    "    elif neural_name == 'NN':\n",
    "        fi_techniques = [fi_IG_NN, fi_LRP_NN, fi_lime, fi_random]\n",
    "        fi_names = ['IG', 'LRP', 'LIME', 'RAND']\n",
    "    else:\n",
    "        fi_techniques = [fi_IG_cNN, fi_LRP_cNN, fi_lime, fi_random]\n",
    "        fi_names = ['IG', 'LRP', 'LIME', 'RAND']\n",
    "    print(neural_name)\n",
    "    for idf, auprc_score in enumerate(auprc[neural_name]):\n",
    "        print(fi_names[idf], np.mean(auprc_score))"
   ]
  },
  {
   "cell_type": "code",
   "execution_count": 157,
   "metadata": {},
   "outputs": [],
   "source": [
    "from sklearn.metrics import auc\n",
    "\n",
    "auprc_df_lnn = pd.DataFrame({'IG':[auc(np.linspace(0, 1, 50),auprc['lNN'][1])], 'LRP':[auc(np.linspace(0, 1, 50),auprc['lNN'][2])], 'LIME':[auc(np.linspace(0, 1, 50),auprc['lNN'][3])], 'RAND':[auc(np.linspace(0, 1, 50),auprc['lNN'][4])]})\n",
    "auprc_df_nn = pd.DataFrame({'IG':[auc(np.linspace(0, 1, 50),auprc['NN'][0])], 'LRP':[auc(np.linspace(0, 1, 50),auprc['NN'][1])], 'LIME':[auc(np.linspace(0, 1, 50),auprc['NN'][2])], 'RAND':[auc(np.linspace(0, 1, 50),auprc['NN'][3])]})\n",
    "auprc_df_cnn = pd.DataFrame({'IG':[auc(np.linspace(0, 1, 50),auprc['cNN'][0])], 'LRP':[auc(np.linspace(0, 1, 50),auprc['cNN'][1])], 'LIME':[auc(np.linspace(0, 1, 50),auprc['cNN'][2])], 'RAND':[auc(np.linspace(0, 1, 50),auprc['cNN'][3])]})"
   ]
  },
  {
   "cell_type": "code",
   "execution_count": 158,
   "metadata": {},
   "outputs": [],
   "source": [
    "cons_alpha = 0.2\n",
    "lip_alpha=20\n",
    "auc_alpha=0.1"
   ]
  },
  {
   "cell_type": "code",
   "execution_count": 159,
   "metadata": {},
   "outputs": [
    {
     "data": {
      "text/html": [
       "<div>\n",
       "<style scoped>\n",
       "    .dataframe tbody tr th:only-of-type {\n",
       "        vertical-align: middle;\n",
       "    }\n",
       "\n",
       "    .dataframe tbody tr th {\n",
       "        vertical-align: top;\n",
       "    }\n",
       "\n",
       "    .dataframe thead th {\n",
       "        text-align: right;\n",
       "    }\n",
       "</style>\n",
       "<table border=\"1\" class=\"dataframe\">\n",
       "  <thead>\n",
       "    <tr style=\"text-align: right;\">\n",
       "      <th></th>\n",
       "      <th>IG</th>\n",
       "      <th>LRP</th>\n",
       "      <th>LIME</th>\n",
       "      <th>RAND</th>\n",
       "    </tr>\n",
       "  </thead>\n",
       "  <tbody>\n",
       "    <tr>\n",
       "      <th>0</th>\n",
       "      <td>15.314669</td>\n",
       "      <td>15.313417</td>\n",
       "      <td>19.640208</td>\n",
       "      <td>12.639863</td>\n",
       "    </tr>\n",
       "  </tbody>\n",
       "</table>\n",
       "</div>"
      ],
      "text/plain": [
       "          IG        LRP       LIME       RAND\n",
       "0  15.314669  15.313417  19.640208  12.639863"
      ]
     },
     "execution_count": 159,
     "metadata": {},
     "output_type": "execute_result"
    }
   ],
   "source": [
    "weights = cons_alpha*con_df_models.iloc[33]+lip_alpha*lip_df_lnn.iloc[33]+auc_alpha/auprc_df_lnn\n",
    "weights"
   ]
  },
  {
   "cell_type": "code",
   "execution_count": 161,
   "metadata": {},
   "outputs": [
    {
     "name": "stdout",
     "output_type": "stream",
     "text": [
      "Starting evaluation for lNN\n",
      "inXAI 0.7950475634943016\n",
      "Starting evaluation for NN\n",
      "inXAI 0.7607737064929643\n",
      "Starting evaluation for cNN\n",
      "inXAI 0.796306129274939\n"
     ]
    }
   ],
   "source": [
    "for neural_name, neural_type in predict_functions.items():\n",
    "    if neural_name == 'lNN':\n",
    "        fi_techniques = [fi_lNN, fi_IG_lNN, fi_LRP_lNN, fi_lime, fi_random]\n",
    "    elif neural_name == 'NN':\n",
    "        fi_techniques = [fi_IG_NN, fi_LRP_NN, fi_lime, fi_random]\n",
    "    else:\n",
    "        fi_techniques = [fi_IG_cNN, fi_LRP_cNN, fi_lime, fi_random]\n",
    "\n",
    "    with open(weights_path+'D1_'+neural_name+'.txt') as json_file:\n",
    "        importances = json.load(json_file)\n",
    "    importance_test = np.array(importances['test'])\n",
    "    importance_test_temp = []\n",
    "    for i in importance_test[:1000]:\n",
    "        importance_test_temp.append(i.reshape((len(i), 50, 14)).mean(axis=1))\n",
    "    importance_test = np.array(importance_test_temp)\n",
    "\n",
    "    inxai = []\n",
    "    for idf, instance in enumerate(x_test[:1000]):\n",
    "        if neural_name == 'lNN':\n",
    "            weights = cons_alpha*con_df_models.iloc[idf]+lip_alpha*lip_df_lnn.iloc[idf]+auc_alpha/auprc_df_lnn\n",
    "            met = weights.dot(importance_test[idf][1:])/weights.sum().sum()\n",
    "        elif neural_name == 'NN':\n",
    "            weights = cons_alpha*con_df_models.iloc[idf]+lip_alpha*lip_df_nn.iloc[idf]+auc_alpha/auprc_df_nn\n",
    "            met = weights.dot(importance_test[idf])/weights.sum().sum()\n",
    "        else:\n",
    "            weights = cons_alpha*con_df_models.iloc[idf]+lip_alpha*lip_df_cnn.iloc[idf]+auc_alpha/auprc_df_cnn\n",
    "            met = weights.dot(importance_test[idf])/weights.sum().sum()\n",
    "        inxai.append(met)\n",
    "    print('Starting evaluation for', neural_name)\n",
    "    inxai_stability = gm.stability(pd.DataFrame(x_test[:1000].mean(axis=1)), inxai ,epsilon=3)\n",
    "    print('inXAI', np.mean(inxai_stability))"
   ]
  },
  {
   "cell_type": "code",
   "execution_count": 163,
   "metadata": {},
   "outputs": [
    {
     "name": "stdout",
     "output_type": "stream",
     "text": [
      "inXAI 0.8922154541544404\n"
     ]
    }
   ],
   "source": [
    "all_importance_tests = []\n",
    "for neural_name, neural_type in predict_functions.items():\n",
    "    with open(weights_path+'D1_'+neural_name+'.txt') as json_file:\n",
    "        importances = json.load(json_file)\n",
    "        importance_test_temp = []\n",
    "        importance_test = np.array(importances['test'])\n",
    "        for i in importance_test[:1000]:\n",
    "            importance_test_temp.append(i.reshape((len(i), 50, 14)).mean(axis=1))\n",
    "        importance_test = np.array(importance_test_temp)\n",
    "    if neural_name == 'lNN':\n",
    "        per_neural = np.array(importances['test'])[:1000,1:,:]\n",
    "    else:\n",
    "        per_neural = np.array(importances['test'][:1000])\n",
    "    \n",
    "    for idf, instance in enumerate(x_test[:1000]):\n",
    "        if neural_name == 'lNN':\n",
    "            weights = cons_alpha*con_df_models.iloc[idf]+lip_alpha*lip_df_lnn.iloc[idf]+auc_alpha/auprc_df_lnn\n",
    "            met = weights.dot(per_neural[idf])/weights.sum().sum()\n",
    "        elif neural_name == 'NN':\n",
    "            weights = cons_alpha*con_df_models.iloc[idf]+lip_alpha*lip_df_nn.iloc[idf]+auc_alpha/auprc_df_nn\n",
    "            met = weights.dot(per_neural[idf])/weights.sum().sum()\n",
    "        else:\n",
    "            weights = cons_alpha*con_df_models.iloc[idf]+lip_alpha*lip_df_cnn.iloc[idf]+auc_alpha/auprc_df_cnn\n",
    "            met = weights.dot(per_neural[idf])/weights.sum().sum()\n",
    "    all_importance_tests.append(met)\n",
    "all_importance_tests = np.array(all_importance_tests)\n",
    "inxai_consistency = gm.consistency(all_importance_tests)\n",
    "print('inXAI', np.mean(inxai_consistency))"
   ]
  },
  {
   "cell_type": "code",
   "execution_count": null,
   "metadata": {},
   "outputs": [],
   "source": []
  },
  {
   "attachments": {},
   "cell_type": "markdown",
   "metadata": {},
   "source": [
    "## Truthfulness and Commplexity evaluation"
   ]
  },
  {
   "cell_type": "code",
   "execution_count": null,
   "metadata": {},
   "outputs": [],
   "source": [
    "predict_functions = {'lNN': predict_lNN, 'NN': predict_NN, 'cNN': predict_cNN}\n",
    "for neural_name, neural_type in predict_functions.items():\n",
    "    if neural_name == 'lNN':\n",
    "        fi_techniques = [fi_lNN, fi_IG_lNN, fi_LRP_lNN, fi_lime, fi_random]\n",
    "        fi_names = ['Inherent', 'IG', 'LRP', 'LIME', 'RAND']\n",
    "    elif neural_name == 'NN':\n",
    "        fi_techniques = [fi_IG_NN, fi_LRP_NN, fi_lime, fi_random]\n",
    "        fi_names = ['IG', 'LRP', 'LIME', 'RAND']\n",
    "    else:\n",
    "        fi_techniques = [fi_IG_cNN, fi_LRP_cNN, fi_lime, fi_random]\n",
    "        fi_names = ['IG', 'LRP', 'LIME', 'RAND']\n",
    "    meta_names = ['Average', 'Median', 'RuleBased']\n",
    "\n",
    "    with open(weights_path+'D1_'+neural_name+'.txt') as json_file:\n",
    "        importances = json.load(json_file)\n",
    "    importance_train = np.array(importances['train'])\n",
    "    importance_train_temp = []\n",
    "    importance_test = np.array(importances['test'])\n",
    "    importance_test_temp = []\n",
    "    for i in importance_train:\n",
    "        importance_train_temp.append(i.reshape((len(i), 50, 14)).mean(axis=1))\n",
    "    for i in importance_test:\n",
    "        importance_test_temp.append(i.reshape((len(i), 50, 14)).mean(axis=1))\n",
    "    importance_train = np.array(importance_train_temp)\n",
    "    importance_test = np.array(importance_test_temp)\n",
    "\n",
    "    sensor_names = [str('F_'+str(i)) for i in range(14)]\n",
    "\n",
    "    meta_explain = MetaExplain(importance_train, sensor_names)\n",
    "\n",
    "    print('Starting evaluation for', neural_name)\n",
    "    for noise in ['weak', 'normal', 'strong']:\n",
    "        for delta in [0, 0.0001, 0.001, 0.01, 0.1]:\n",
    "            my_altruist = Altruist(neural_type, x_train, fi_techniques, sensor_names,\n",
    "                                   level=noise, delta=delta, data_type='per Sensor')\n",
    "            fis_scores = []\n",
    "            meta_scores = []\n",
    "            nzw_scores = []\n",
    "            nzw_scores_delta = []\n",
    "            for i in fi_techniques:\n",
    "                fis_scores.append([])\n",
    "                nzw_scores.append([])\n",
    "                nzw_scores_delta.append([])\n",
    "            for i in meta_names:\n",
    "                meta_scores.append([])\n",
    "                nzw_scores.append([])\n",
    "                nzw_scores_delta.append([])\n",
    "            for j in range(len(x_test[:1000])):\n",
    "                my_altruist.fis = len(fi_techniques)\n",
    "                a = my_altruist.find_untruthful(x_test[j], importance_test[j])\n",
    "                for i in range(len(importance_test[j])):\n",
    "                    cnzw = 0\n",
    "                    cnzwt = 0\n",
    "                    for k in importance_test[j][i]:\n",
    "                        if abs(k) > 0:\n",
    "                            cnzw += 1\n",
    "                        if abs(k) > delta:\n",
    "                            cnzwt += 1\n",
    "                    nzw_scores[i].append(cnzw)\n",
    "                    nzw_scores_delta[i].append(cnzwt)\n",
    "                b = np.array(a[-1])\n",
    "                for i in range(len(a[0])):\n",
    "                    fis_scores[i].append(len(a[0][i]))\n",
    "                temp_meta = []\n",
    "                temp_meta.append(meta_explain.meta_avg(b))\n",
    "                temp_meta.append(meta_explain.meta_median(b))\n",
    "                temp_meta.append(meta_explain.meta_rule_based(a[0], a[2], b))\n",
    "                for i in range(len(temp_meta)):\n",
    "                    cnzw = 0\n",
    "                    cnzwt = 0\n",
    "                    for k in temp_meta[i]:\n",
    "                        if abs(k) > 0:\n",
    "                            cnzw += 1\n",
    "                        if abs(k) > delta:\n",
    "                            cnzwt += 1\n",
    "                    nzw_scores[i+len(importance_test[j])].append(cnzw)\n",
    "                    nzw_scores_delta[i+len(importance_test[j])].append(cnzwt)\n",
    "                my_altruist.fis = len(meta_names)\n",
    "                a = my_altruist.find_untruthful(x_test[j], temp_meta)\n",
    "                for i in range(len(a[0])):\n",
    "                    meta_scores[i].append(len(a[0][i]))\n",
    "\n",
    "            row = [neural_name, noise, delta]\n",
    "            for fis_score in fis_scores:\n",
    "                row.append(np.array(fis_score).mean())\n",
    "            for meta_score in meta_scores:\n",
    "                row.append(np.array(meta_score).mean())\n",
    "            with open('D1_PS'+neural_name+'.csv', 'a', encoding='UTF8') as f:\n",
    "                writer = csv.writer(f)\n",
    "                writer.writerow(row)\n",
    "            row = [neural_name, noise, delta]\n",
    "            all_names = fi_names+meta_names\n",
    "            for aname in range(len(all_names)):\n",
    "                row.append(np.array(nzw_scores[aname]).mean())\n",
    "                row.append(np.array(nzw_scores_delta[aname]).mean())\n",
    "            with open('D1_PS_NZW_'+neural_name+'.csv', 'a', encoding='UTF8') as f:\n",
    "                writer = csv.writer(f)\n",
    "                writer.writerow(row)"
   ]
  },
  {
   "cell_type": "code",
   "execution_count": 164,
   "metadata": {},
   "outputs": [
    {
     "name": "stdout",
     "output_type": "stream",
     "text": [
      "Starting evaluation for lNN\n",
      "Starting evaluation for NN\n",
      "Starting evaluation for cNN\n"
     ]
    }
   ],
   "source": [
    "for neural_name, neural_type in predict_functions.items():\n",
    "    if neural_name == 'lNN':\n",
    "        fi_techniques = [fi_random]\n",
    "        fi_names = ['inXAI']\n",
    "    elif neural_name == 'NN':\n",
    "        fi_techniques = [fi_random]\n",
    "        fi_names = ['inXAI']\n",
    "    else:\n",
    "        fi_techniques = [fi_random]\n",
    "        fi_names = ['inXAI']\n",
    "\n",
    "    with open(weights_path+'D1_'+neural_name+'.txt') as json_file:\n",
    "        importances = json.load(json_file)\n",
    "    importance_train = np.array(importances['train'])\n",
    "    importance_train_temp = []\n",
    "    importance_test = np.array(importances['test'][:1000])\n",
    "    importance_test_temp = []\n",
    "    for i in importance_train:\n",
    "        importance_train_temp.append(i.reshape((len(i), 50, 14)).mean(axis=1))\n",
    "    for i in importance_test:\n",
    "        importance_test_temp.append(i.reshape((len(i), 50, 14)).mean(axis=1))\n",
    "    importance_train = np.array(importance_train_temp)\n",
    "    importance_test = np.array(importance_test_temp)\n",
    "\n",
    "    new_test = []\n",
    "    for idf, instance in enumerate(x_test[:1000]):\n",
    "        if neural_name == 'lNN':\n",
    "            weights = cons_alpha*con_df_models.iloc[idf]+lip_alpha*lip_df_lnn.iloc[idf]+auc_alpha/auprc_df_lnn\n",
    "            met = weights.dot(importance_test[idf][1:])/weights.sum().sum()\n",
    "        elif neural_name == 'NN':\n",
    "            weights = cons_alpha*con_df_models.iloc[idf]+lip_alpha*lip_df_nn.iloc[idf]+auc_alpha/auprc_df_nn\n",
    "            met = weights.dot(importance_test[idf])/weights.sum().sum()\n",
    "        else:\n",
    "            weights = cons_alpha*con_df_models.iloc[idf]+lip_alpha*lip_df_cnn.iloc[idf]+auc_alpha/auprc_df_cnn\n",
    "            met = weights.dot(importance_test[idf])/weights.sum().sum()\n",
    "        new_test.append([met])\n",
    "    importance_test = np.array(new_test)\n",
    "\n",
    "    print('Starting evaluation for', neural_name)\n",
    "    for noise in ['weak', 'normal', 'strong']:\n",
    "        for delta in [0 , 0.0001, 0.001, 0.01, 0.1]:\n",
    "            my_altruist = Altruist(\n",
    "                neural_type, x_train, fi_techniques, sensor_names, level=noise, delta=delta, data_type='per Sensor')\n",
    "            fis_scores = []\n",
    "            meta_scores = []\n",
    "            nzw_scores = []\n",
    "            nzw_scores_delta = []\n",
    "            for i in fi_techniques:\n",
    "                fis_scores.append([])\n",
    "                nzw_scores.append([])\n",
    "                nzw_scores_delta.append([])\n",
    "            for i in meta_names:\n",
    "                meta_scores.append([])\n",
    "                nzw_scores.append([])\n",
    "                nzw_scores_delta.append([])\n",
    "            for j in range(len(x_test[:1000])):\n",
    "                my_altruist.fis = len(fi_techniques)\n",
    "                a = my_altruist.find_untruthful(x_test[j], importance_test[j])\n",
    "                for i in range(len(importance_test[j])):\n",
    "                    cnzw = 0\n",
    "                    cnzwt = 0\n",
    "                    for k in importance_test[j][i]:\n",
    "                        if abs(k) > 0:\n",
    "                            cnzw += 1\n",
    "                        if abs(k) > delta:\n",
    "                            cnzwt += 1\n",
    "                    nzw_scores[i].append(cnzw)\n",
    "                    nzw_scores_delta[i].append(cnzwt)\n",
    "                b = np.array(a[-1])\n",
    "                for i in range(len(a[0])):\n",
    "                    fis_scores[i].append(len(a[0][i]))\n",
    "                \n",
    "            count = 0\n",
    "            row = [neural_name, noise, delta]\n",
    "            for fis_score in fis_scores:\n",
    "                row.append(np.array(fis_score).mean())\n",
    "            with open('D1_inxai'+neural_name+'.csv', 'a', encoding='UTF8') as f:\n",
    "                writer = csv.writer(f)\n",
    "                writer.writerow(row)\n",
    "            row = [neural_name, noise, delta]\n",
    "            all_names = fi_names\n",
    "            for aname in range(len(all_names)):\n",
    "                row.append(np.array(nzw_scores[aname]).mean())\n",
    "                row.append(np.array(nzw_scores_delta[aname]).mean())\n",
    "            with open('D1_NZW_inxai'+neural_name+'.csv', 'a', encoding='UTF8') as f:\n",
    "                writer = csv.writer(f)\n",
    "                writer.writerow(row)"
   ]
  },
  {
   "attachments": {},
   "cell_type": "markdown",
   "metadata": {},
   "source": [
    "Finally, we will perform the ablation study in per sensor level!"
   ]
  },
  {
   "cell_type": "code",
   "execution_count": null,
   "metadata": {},
   "outputs": [],
   "source": [
    "predict_functions = {'NN': predict_NN, 'cNN': predict_cNN}\n",
    "for neural_name, neural_type in predict_functions.items():\n",
    "    if neural_name == 'NN':\n",
    "        fi_techniques = [fi_LRP_NN, fi_lime, fi_random]\n",
    "        fi_names = ['LRP', 'LIME', 'RAND']  # ['IG', 'LRP', 'LIME', 'RAND']\n",
    "    else:\n",
    "        fi_techniques = [fi_LRP_cNN, fi_lime, fi_random]\n",
    "        fi_names = ['LRP', 'LIME', 'RAND']  # ['IG', 'LRP', 'LIME', 'RAND']\n",
    "    meta_names = ['Average', 'Median', 'RuleBased']\n",
    "\n",
    "    with open(weights_path+'D1_'+neural_name+'.txt') as json_file:\n",
    "        importances = json.load(json_file)\n",
    "    importance_train = np.array(importances['train'])\n",
    "    importance_train_temp = []\n",
    "    importance_test = np.array(importances['test'])\n",
    "    importance_test_temp = []\n",
    "    for i in importance_train:\n",
    "        importance_train_temp.append(i.reshape((len(i), 50, 14)).mean(axis=1))\n",
    "    for i in importance_test:\n",
    "        importance_test_temp.append(i.reshape((len(i), 50, 14)).mean(axis=1))\n",
    "    importance_train = np.array(importance_train_temp)\n",
    "    importance_test = np.array(importance_test_temp)\n",
    "    importance_train = np.delete(importance_train, 2, axis=1)\n",
    "    importance_test = np.delete(importance_test, 2, axis=1)\n",
    "\n",
    "    sensor_names = [str('F_'+str(i)) for i in range(14)]\n",
    "\n",
    "    meta_explain = MetaExplain(importance_train, sensor_names)\n",
    "\n",
    "    print('Starting evaluation for', neural_name)\n",
    "    for noise in ['normal']:\n",
    "        for delta in [0.0001]:\n",
    "            my_altruist = Altruist(neural_type, x_train, fi_techniques, sensor_names,\n",
    "                                   level=noise, delta=delta, data_type='per Sensor')\n",
    "            fis_scores = []\n",
    "            meta_scores = []\n",
    "            nzw_scores = []\n",
    "            nzw_scores_delta = []\n",
    "            for i in fi_techniques:\n",
    "                fis_scores.append([])\n",
    "                nzw_scores.append([])\n",
    "                nzw_scores_delta.append([])\n",
    "            for i in meta_names:\n",
    "                meta_scores.append([])\n",
    "                nzw_scores.append([])\n",
    "                nzw_scores_delta.append([])\n",
    "            for j in range(len(x_test)):\n",
    "                my_altruist.fis = len(fi_techniques)\n",
    "                a = my_altruist.find_untruthful(x_test[j], importance_test[j])\n",
    "                for i in range(len(importance_test[j])):\n",
    "\n",
    "                    cnzw = 0\n",
    "                    cnzwt = 0\n",
    "                    for k in importance_test[j][i]:\n",
    "                        if abs(k) > 0:\n",
    "                            cnzw += 1\n",
    "                        if abs(k) > delta:\n",
    "                            cnzwt += 1\n",
    "                    nzw_scores[i].append(cnzw)\n",
    "                    nzw_scores_delta[i].append(cnzwt)\n",
    "                b = np.array(a[-1])\n",
    "                for i in range(len(a[0])):\n",
    "                    fis_scores[i].append(len(a[0][i]))\n",
    "                temp_meta = []\n",
    "                temp_meta.append(meta_explain.meta_avg(b))\n",
    "                temp_meta.append(meta_explain.meta_median(b))\n",
    "                temp_meta.append(meta_explain.meta_rule_based(a[0], a[2], b))\n",
    "                for i in range(len(temp_meta)):\n",
    "                    cnzw = 0\n",
    "                    cnzwt = 0\n",
    "                    for k in temp_meta[i]:\n",
    "                        if abs(k) > 0:\n",
    "                            cnzw += 1\n",
    "                        if abs(k) > delta:\n",
    "                            cnzwt += 1\n",
    "                    nzw_scores[i+len(importance_test[j])].append(cnzw)\n",
    "                    nzw_scores_delta[i+len(importance_test[j])].append(cnzwt)\n",
    "                my_altruist.fis = len(meta_names)\n",
    "                a = my_altruist.find_untruthful(x_test[j], temp_meta)\n",
    "                for i in range(len(a[0])):\n",
    "                    meta_scores[i].append(len(a[0][i]))\n",
    "\n",
    "            row = [neural_name, noise, delta]\n",
    "            for fis_score in fis_scores:\n",
    "                row.append(np.array(fis_score).mean())\n",
    "            for meta_score in meta_scores:\n",
    "                row.append(np.array(meta_score).mean())\n",
    "            with open('D1_PS_AblationIG'+neural_name+'.csv', 'a', encoding='UTF8') as f:\n",
    "                writer = csv.writer(f)\n",
    "                writer.writerow(row)\n",
    "            row = [neural_name, noise, delta]\n",
    "            all_names = fi_names+meta_names\n",
    "            for aname in range(len(all_names)):\n",
    "                row.append(np.array(nzw_scores[aname]).mean())\n",
    "                row.append(np.array(nzw_scores_delta[aname]).mean())\n",
    "            with open('D1_PS_AblationIG_NZW_'+neural_name+'.csv', 'a', encoding='UTF8') as f:\n",
    "                writer = csv.writer(f)\n",
    "                writer.writerow(row)"
   ]
  },
  {
   "cell_type": "code",
   "execution_count": 168,
   "metadata": {},
   "outputs": [
    {
     "name": "stdout",
     "output_type": "stream",
     "text": [
      "Starting evaluation for NN\n",
      "Starting evaluation for cNN\n"
     ]
    }
   ],
   "source": [
    "predict_functions = {'NN': predict_NN, 'cNN': predict_cNN}\n",
    "for neural_name, neural_type in predict_functions.items():\n",
    "    if neural_name == 'NN':\n",
    "        fi_techniques = [fi_random]\n",
    "        fi_names = ['inXAI']\n",
    "    else:\n",
    "        fi_techniques = [fi_random]\n",
    "        fi_names = ['inXAI']\n",
    "\n",
    "    with open(weights_path+'D1_'+neural_name+'.txt') as json_file:\n",
    "        importances = json.load(json_file)\n",
    "    importance_train = np.array(importances['train'])\n",
    "    importance_test = np.array(importances['test'])\n",
    "    \n",
    "    importance_train_temp = []\n",
    "    importance_test = np.array(importances['test'])\n",
    "    importance_test_temp = []\n",
    "    for i in importance_train:\n",
    "        importance_train_temp.append(i.reshape((len(i), 50, 14)).mean(axis=1))\n",
    "    for i in importance_test[:1000]:\n",
    "        importance_test_temp.append(i.reshape((len(i), 50, 14)).mean(axis=1))\n",
    "    importance_train = np.array(importance_train_temp)\n",
    "    importance_test = np.array(importance_test_temp)\n",
    "\n",
    "    fi = 3\n",
    "    importance_train =np.delete(importance_train, fi, axis=1) #change this manually\n",
    "    importance_test = np.delete(importance_test, fi, axis=1)\n",
    "    new_test = []\n",
    "    for idf, instance in enumerate(x_test[:1000]):\n",
    "        if neural_name == 'NN':\n",
    "            weights = cons_alpha*con_df_models.iloc[idf]+lip_alpha*lip_df_nn.iloc[idf]+auc_alpha/auprc_df_nn\n",
    "            met = weights.drop(weights.columns[[fi]],axis = 1).dot(importance_test[idf])/weights.sum().sum()\n",
    "        else:\n",
    "            weights = cons_alpha*con_df_models.iloc[idf]+lip_alpha*lip_df_cnn.iloc[idf]+auc_alpha/auprc_df_cnn\n",
    "            met = weights.drop(weights.columns[[fi]],axis = 1).dot(importance_test[idf])/weights.sum().sum()\n",
    "        new_test.append([met])\n",
    "    importance_test = np.array(new_test)\n",
    "\n",
    "    print('Starting evaluation for', neural_name)\n",
    "    for noise in ['normal']:\n",
    "        for delta in [0.0001]:\n",
    "            my_altruist = Altruist(\n",
    "                neural_type, x_train, fi_techniques, sensor_names, level=noise, delta=delta, data_type='per Sensor')\n",
    "            fis_scores = []\n",
    "            meta_scores = []\n",
    "            nzw_scores = []\n",
    "            nzw_scores_delta = []\n",
    "            for i in fi_techniques:\n",
    "                fis_scores.append([])\n",
    "                nzw_scores.append([])\n",
    "                nzw_scores_delta.append([])\n",
    "            for i in meta_names:\n",
    "                meta_scores.append([])\n",
    "                nzw_scores.append([])\n",
    "                nzw_scores_delta.append([])\n",
    "            for j in range(len(x_test[:1000])):\n",
    "                my_altruist.fis = len(fi_techniques)\n",
    "                a = my_altruist.find_untruthful(x_test[j], importance_test[j])\n",
    "                for i in range(len(importance_test[j])):\n",
    "                    cnzw = 0\n",
    "                    cnzwt = 0\n",
    "                    for k in importance_test[j][i]:\n",
    "                        if abs(k) > 0:\n",
    "                            cnzw += 1\n",
    "                        if abs(k) > delta:\n",
    "                            cnzwt += 1\n",
    "                    nzw_scores[i].append(cnzw)\n",
    "                    nzw_scores_delta[i].append(cnzwt)\n",
    "                b = np.array(a[-1])\n",
    "                for i in range(len(a[0])):\n",
    "                    fis_scores[i].append(len(a[0][i]))\n",
    "                \n",
    "            count = 0\n",
    "            row = [neural_name, noise, delta]\n",
    "            for fis_score in fis_scores:\n",
    "                row.append(np.array(fis_score).mean())\n",
    "            with open('D1_Ablation_Study_inxai'+neural_name+'.csv', 'a', encoding='UTF8') as f:\n",
    "                writer = csv.writer(f)\n",
    "                writer.writerow(row)\n",
    "            row = [neural_name, noise, delta]\n",
    "            all_names = fi_names\n",
    "            for aname in range(len(all_names)):\n",
    "                row.append(np.array(nzw_scores[aname]).mean())\n",
    "                row.append(np.array(nzw_scores_delta[aname]).mean())\n",
    "            with open('D1_Ablation_Study_NZW_inxai'+neural_name+'.csv', 'a', encoding='UTF8') as f:\n",
    "                writer = csv.writer(f)\n",
    "                writer.writerow(row)"
   ]
  },
  {
   "cell_type": "code",
   "execution_count": null,
   "metadata": {},
   "outputs": [],
   "source": []
  }
 ],
 "metadata": {
  "interpreter": {
   "hash": "f35bf8cd5f04ba351bb361a1212eeb730a988adc473d8146210fc49c7facefd6"
  },
  "kernelspec": {
   "display_name": "Python 3.7.9 64-bit ('3.7.9': pyenv)",
   "name": "python3"
  },
  "language_info": {
   "codemirror_mode": {
    "name": "ipython",
    "version": 3
   },
   "file_extension": ".py",
   "mimetype": "text/x-python",
   "name": "python",
   "nbconvert_exporter": "python",
   "pygments_lexer": "ipython3",
   "version": "3.7.6"
  },
  "orig_nbformat": 4
 },
 "nbformat": 4,
 "nbformat_minor": 2
}
