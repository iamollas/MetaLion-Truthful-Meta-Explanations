{
 "cells": [
  {
   "cell_type": "markdown",
   "metadata": {},
   "source": [
    "# Quantitative experiments with Hurricane Damage Estimation dataset\n",
    "This dataset contains information about satellite images from the Greater Houston area after Hurricane Harvey in 2017. Each image has been labelled as either \"Flooded/Damaged\" or \"Undamaged\" https://cutt.ly/kQ1n3kE"
   ]
  },
  {
   "cell_type": "code",
   "execution_count": 1,
   "metadata": {},
   "outputs": [],
   "source": [
    "import sys\n",
    "sys.path.append('C:\\\\Users\\\\iamollas\\\\Desktop\\\\Altruist New')\n",
    "data_path = 'C:\\\\Users\\\\iamollas\\\\Desktop\\\\Altruist New\\\\experiments\\\\quantitative\\\\Preprocessed Data\\\\D3\\\\'\n",
    "model_path = 'C:\\\\Users\\\\iamollas\\\\Desktop\\\\Altruist New\\\\experiments\\\\quantitative\\\\Models\\\\D3\\\\'"
   ]
  },
  {
   "cell_type": "code",
   "execution_count": 2,
   "metadata": {},
   "outputs": [
    {
     "name": "stderr",
     "output_type": "stream",
     "text": [
      "Using TensorFlow backend.\n"
     ]
    }
   ],
   "source": [
    "import random\n",
    "import time\n",
    "import csv\n",
    "import warnings\n",
    "import json\n",
    "import lime.lime_image as li\n",
    "from keras.callbacks import ModelCheckpoint\n",
    "from keras.models import Model\n",
    "from keras.layers import Dense, Flatten, Input, Dropout, BatchNormalization, Conv2D, MaxPool2D, GlobalAveragePooling2D\n",
    "from keras.applications import VGG16\n",
    "import keras\n",
    "import json\n",
    "from keras.models import Model\n",
    "from innvestigate.utils.keras import checks\n",
    "import innvestigate\n",
    "import innvestigate.utils as iutils\n",
    "from altruist import Altruist\n",
    "from meta_explain import MetaExplain\n",
    "from sklearn.preprocessing import maxabs_scale\n",
    "import numpy as np\n",
    "np.seterr(invalid='ignore')\n",
    "warnings.filterwarnings(\"ignore\")\n"
   ]
  },
  {
   "cell_type": "markdown",
   "metadata": {},
   "source": [
    "We will now load the Hurricane Damage Estimation Dataset. Run the following lines only once. It will prepare and save the data. Then just run the code in the next cell!"
   ]
  },
  {
   "cell_type": "code",
   "execution_count": 3,
   "metadata": {},
   "outputs": [],
   "source": [
    "#hurricane = Dataset()\n",
    "#train_images, train_labels, test_images, test_labels, val_images, val_labels = hurricane.load_hurricane()\n",
    "\n",
    "#train_images = train_images/255\n",
    "#test_images = test_images/255\n",
    "#val_images = val_images/255\n",
    "#import pickle\n",
    "#data = [train_images, train_labels]\n",
    "#with open('D3_data_train.pickle', 'wb') as outfile:\n",
    "#    pickle.dump(data, outfile, protocol=pickle.HIGHEST_PROTOCOL)\n",
    "\n",
    "#data = [test_images, test_labels]\n",
    "#with open('D3_data_test.pickle', 'wb') as outfile:\n",
    "#    pickle.dump(data, outfile, protocol=pickle.HIGHEST_PROTOCOL)\n",
    "\n",
    "#data = [val_images, val_labels]\n",
    "#with open('D3_data_val.pickle', 'wb') as outfile:\n",
    "#    pickle.dump(data, outfile, protocol=pickle.HIGHEST_PROTOCOL)"
   ]
  },
  {
   "cell_type": "markdown",
   "metadata": {},
   "source": [
    "Here, we load the saved-preprocessed data!"
   ]
  },
  {
   "cell_type": "code",
   "execution_count": 4,
   "metadata": {},
   "outputs": [],
   "source": [
    "import pickle\n",
    "data_path = 'C:\\\\Users\\\\iamollas\\\\Desktop\\\\Altruist New\\\\experiments\\\\quantitative\\\\Preprocessed Data\\\\D3\\\\'\n",
    "model_path = 'C:\\\\Users\\\\iamollas\\\\Desktop\\\\Altruist New\\\\experiments\\\\quantitative\\\\Models\\\\D3\\\\'\n",
    "with open(data_path+'D3_data_train.pickle', 'rb') as handle:\n",
    "    train = pickle.load(handle)\n",
    "    train_images = train[0]\n",
    "    train_labels = train[1]\n",
    "with open(data_path+'D3_data_test.pickle', 'rb') as handle:\n",
    "    test = pickle.load(handle)\n",
    "    test_images = test[0]\n",
    "    test_labels = test[1]\n",
    "with open(data_path+'D3_data_val.pickle', 'rb') as handle:\n",
    "    val = pickle.load(handle)\n",
    "    val_images = val[0]\n",
    "    val_labels = val[1]"
   ]
  },
  {
   "cell_type": "code",
   "execution_count": 5,
   "metadata": {},
   "outputs": [
    {
     "data": {
      "text/plain": [
       "((20000, 128, 128, 3), (9000, 128, 128, 3), (4000, 128, 128, 3))"
      ]
     },
     "execution_count": 5,
     "metadata": {},
     "output_type": "execute_result"
    }
   ],
   "source": [
    "train_images.shape, test_images.shape, val_images.shape"
   ]
  },
  {
   "cell_type": "markdown",
   "metadata": {},
   "source": [
    "And we will build two neural network models. One linear and one non-linear, and one uneccessary complex model."
   ]
  },
  {
   "cell_type": "code",
   "execution_count": 6,
   "metadata": {},
   "outputs": [
    {
     "name": "stdout",
     "output_type": "stream",
     "text": [
      "WARNING:tensorflow:From c:\\Users\\iamollas\\anaconda3\\lib\\site-packages\\tensorflow_core\\python\\ops\\resource_variable_ops.py:1630: calling BaseResourceVariable.__init__ (from tensorflow.python.ops.resource_variable_ops) with constraint is deprecated and will be removed in a future version.\n",
      "Instructions for updating:\n",
      "If using Keras pass *_constraint arguments to layers.\n",
      "WARNING:tensorflow:From c:\\Users\\iamollas\\anaconda3\\lib\\site-packages\\tensorflow_core\\python\\ops\\nn_impl.py:183: where (from tensorflow.python.ops.array_ops) is deprecated and will be removed in a future version.\n",
      "Instructions for updating:\n",
      "Use tf.where in 2.0, which has the same broadcast rule as np.where\n",
      "WARNING:tensorflow:From c:\\Users\\iamollas\\anaconda3\\lib\\site-packages\\keras\\backend\\tensorflow_backend.py:4070: The name tf.nn.max_pool is deprecated. Please use tf.nn.max_pool2d instead.\n",
      "\n",
      "WARNING:tensorflow:Large dropout rate: 0.6 (>0.5). In TensorFlow 2.x, dropout() uses dropout rate instead of keep_prob. Please ensure that this is intended.\n",
      "WARNING:tensorflow:Large dropout rate: 0.6 (>0.5). In TensorFlow 2.x, dropout() uses dropout rate instead of keep_prob. Please ensure that this is intended.\n",
      "WARNING:tensorflow:Large dropout rate: 0.6 (>0.5). In TensorFlow 2.x, dropout() uses dropout rate instead of keep_prob. Please ensure that this is intended.\n"
     ]
    }
   ],
   "source": [
    "from keras.regularizers import l2\n",
    "\n",
    "linear_input = Input(shape=(train_images[0].shape))\n",
    "linear_hidden = Flatten()(linear_input)\n",
    "linear_output = Dense(1, activation='sigmoid')(linear_hidden)\n",
    "linear_neural = Model(linear_input, linear_output)\n",
    "linear_neural.compile(\n",
    "    optimizer='adam', loss='binary_crossentropy', metrics=['accuracy'])\n",
    "\n",
    "neural_input = Input(shape=(train_images[0].shape))\n",
    "neural_hidden = Conv2D(32, (3, 3), strides=(1, 1), padding='same',\n",
    "                       activation='relu', kernel_regularizer=l2(0.0005))(neural_input)\n",
    "neural_hidden = BatchNormalization()(neural_hidden)\n",
    "neural_hidden = MaxPool2D(pool_size=(2, 2))(neural_hidden)\n",
    "neural_hidden = Dropout(0.6)(neural_hidden)\n",
    "neural_hidden = Conv2D(64, (3, 3), strides=(2, 2), padding='same',\n",
    "                       activation='relu', kernel_regularizer=l2(0.0005))(neural_hidden)\n",
    "neural_hidden = BatchNormalization()(neural_hidden)\n",
    "neural_hidden = MaxPool2D(pool_size=(2, 2))(neural_hidden)\n",
    "neural_hidden = Dropout(0.6)(neural_hidden)\n",
    "neural_hidden = Conv2D(128, (3, 3), strides=(1, 1), padding='same',\n",
    "                       activation='relu', kernel_regularizer=l2(0.0005))(neural_hidden)\n",
    "neural_hidden = BatchNormalization()(neural_hidden)\n",
    "neural_hidden = MaxPool2D(pool_size=(2, 2))(neural_hidden)\n",
    "neural_hidden = Flatten()(neural_hidden)\n",
    "neural_hidden = Dropout(0.6)(neural_hidden)\n",
    "neural_output = Dense(1, activation='sigmoid')(neural_hidden)\n",
    "neural = Model(neural_input, neural_output)\n",
    "neural.compile(optimizer='adam', loss='binary_crossentropy',\n",
    "               metrics=['accuracy'])\n",
    "\n",
    "complex_net = VGG16(input_shape=(\n",
    "    train_images[0].shape), include_top=False, weights='imagenet')\n",
    "for layer in complex_net.layers:\n",
    "    layer.trainable = False\n",
    "complex = complex_net.output\n",
    "complex = GlobalAveragePooling2D()(complex)\n",
    "complex_output = Dense(1, activation='sigmoid')(complex)\n",
    "complex_neural = Model(complex_net.input, complex_output)\n",
    "complex_neural.compile(\n",
    "    optimizer='adam', loss='binary_crossentropy', metrics=['accuracy'])\n",
    "\n",
    "models = {'lNN': linear_neural, 'NN': neural, 'cNN': complex_neural}"
   ]
  },
  {
   "cell_type": "markdown",
   "metadata": {},
   "source": [
    "Let's evaluate our models!"
   ]
  },
  {
   "cell_type": "code",
   "execution_count": 7,
   "metadata": {},
   "outputs": [],
   "source": [
    "from sklearn.metrics import f1_score, accuracy_score, precision_score, recall_score\n",
    "\n",
    "def compute_scores(name, y_test, y_pred):\n",
    "    if type(y_pred[0]) == type(np.ndarray([1])):\n",
    "        y_pred = np.array([1 if i[0] > 0.5 else 0 for i in y_pred])\n",
    "    print(name)\n",
    "    print('\\t', 'F1:', f1_score(y_test, y_pred, average='macro'))\n",
    "    print('\\t', 'Precision:', precision_score(y_test, y_pred, average='macro'))\n",
    "    print('\\t', 'Recall:', recall_score(y_test, y_pred, average='macro'))\n",
    "    print('\\t', 'Accuracy:', accuracy_score(y_test, y_pred))"
   ]
  },
  {
   "cell_type": "code",
   "execution_count": 8,
   "metadata": {},
   "outputs": [
    {
     "name": "stdout",
     "output_type": "stream",
     "text": [
      "WARNING:tensorflow:From c:\\Users\\iamollas\\anaconda3\\lib\\site-packages\\keras\\backend\\tensorflow_backend.py:422: The name tf.global_variables is deprecated. Please use tf.compat.v1.global_variables instead.\n",
      "\n",
      "lNN\n",
      "\t F1: 0.565476559909412\n",
      "\t Precision: 0.5815972627376245\n",
      "\t Recall: 0.6870625\n",
      "\t Accuracy: 0.6933333333333334\n",
      "NN\n",
      "\t F1: 0.9322444719829415\n",
      "\t Precision: 0.9102825488488284\n",
      "\t Recall: 0.9578125\n",
      "\t Accuracy: 0.9716666666666667\n",
      "cNN\n",
      "\t F1: 0.8529310393079833\n",
      "\t Precision: 0.8131856855863842\n",
      "\t Recall: 0.913375\n",
      "\t Accuracy: 0.9323333333333333\n"
     ]
    }
   ],
   "source": [
    "path = 'C:\\\\Users\\\\iamollas\\\\Desktop\\\\Altruist New\\\\experiments\\\\quantitative\\\\Models\\\\D3\\\\'\n",
    "train = False\n",
    "for name, model in models.items():\n",
    "    if train:\n",
    "        check_point = ModelCheckpoint(\n",
    "            \"D3_\"+name+\".hdf5\", monitor=\"val_loss\", verbose=0, save_best_only=True, mode=\"auto\")\n",
    "        if name == 'cNN':\n",
    "            model.fit(train_images, train_labels, epochs=15, batch_size=32, shuffle=True,\n",
    "                      validation_data=(val_images, val_labels), verbose=1, callbacks=[check_point])\n",
    "            for layer in complex_net.layers[15:]:\n",
    "                layer.trainable = True\n",
    "            model.fit(train_images, train_labels, epochs=10, batch_size=32, shuffle=True,\n",
    "                      validation_data=(val_images, val_labels), verbose=1, callbacks=[check_point])\n",
    "        else:\n",
    "            model.fit(train_images, train_labels, epochs=25, batch_size=32, shuffle=True,\n",
    "                      validation_data=(val_images, val_labels), verbose=1, callbacks=[check_point])\n",
    "            model.load_weights(\"D3_\"+name+\".hdf5\")\n",
    "    else:\n",
    "        model.load_weights(path+\"D3_\"+name+\".hdf5\")\n",
    "    y_pred = model.predict(test_images)\n",
    "    compute_scores(name, test_labels, y_pred)"
   ]
  },
  {
   "cell_type": "markdown",
   "metadata": {},
   "source": [
    "We will prepare our predict functions to work well with our python scripts!"
   ]
  },
  {
   "cell_type": "code",
   "execution_count": 9,
   "metadata": {},
   "outputs": [],
   "source": [
    "def predict_cNN(x):\n",
    "    prediction = models['cNN'].predict(x)\n",
    "    return [i[0] for i in prediction]\n",
    "\n",
    "def predict_NN(x):\n",
    "    prediction = models['NN'].predict(x)\n",
    "    return [i[0] for i in prediction]\n",
    "\n",
    "def predict_lNN(x):\n",
    "    prediction = models['lNN'].predict(x)\n",
    "    return [i[0] for i in prediction]\n",
    "\n",
    "predict_functions = {'lNN': predict_lNN, 'NN': predict_NN, 'cNN': predict_cNN}\n"
   ]
  },
  {
   "cell_type": "markdown",
   "metadata": {},
   "source": [
    "Let's prepare our explainers"
   ]
  },
  {
   "cell_type": "code",
   "execution_count": 10,
   "metadata": {},
   "outputs": [],
   "source": [
    "def analyzer_generators(model):\n",
    "    Xs = iutils.to_list(model.outputs)\n",
    "    ret = []\n",
    "    for x in Xs:\n",
    "        layer, node_index, tensor_index = x._keras_history\n",
    "        if checks.contains_activation(layer, activation=\"sigmoid\"):\n",
    "            if isinstance(layer, keras.layers.Activation):\n",
    "                ret.append(layer.get_input_at(node_index))\n",
    "            else:\n",
    "                layer_wo_act = innvestigate.utils.keras.graph.copy_layer_wo_activation(\n",
    "                    layer)\n",
    "                ret.append(layer_wo_act(layer.get_input_at(node_index)))\n",
    "    modified_model = Model(input=model.input, output=ret)\n",
    "    modified_model.trainable = False\n",
    "    modified_model.compile(\n",
    "        optimizer='adam', loss='binary_crossentropy', metrics=['accuracy'])\n",
    "    analyzer_IG = innvestigate.create_analyzer(\n",
    "        'integrated_gradients', modified_model, reference_inputs=16*[0])\n",
    "    analyzer_LRP = innvestigate.create_analyzer('lrp.z', modified_model)\n",
    "    return [analyzer_IG, analyzer_LRP]\n"
   ]
  },
  {
   "cell_type": "code",
   "execution_count": 11,
   "metadata": {},
   "outputs": [],
   "source": [
    "analyzer_NN = analyzer_generators(neural)\n",
    "analyzer_lNN = analyzer_generators(linear_neural)\n",
    "analyzer_cNN = analyzer_generators(complex_neural)\n"
   ]
  },
  {
   "cell_type": "code",
   "execution_count": 12,
   "metadata": {},
   "outputs": [],
   "source": [
    "train_images_flat = train_images.copy().reshape((len(train_images), 128*128*3))\n",
    "test_images_flat = test_images.copy().reshape((len(test_images), 128*128*3))\n",
    "val_images_flat = val_images.copy().reshape((len(val_images), 128*128*3))\n",
    "flat_features = [str('F_'+str(i)) for i in range(128*128)]"
   ]
  },
  {
   "cell_type": "markdown",
   "metadata": {},
   "source": [
    "We prepare each interpretation technique to have the same format!"
   ]
  },
  {
   "cell_type": "code",
   "execution_count": 13,
   "metadata": {},
   "outputs": [],
   "source": [
    "from skimage import segmentation\n",
    "\n",
    "def fi_lNN(instance, predict_function):\n",
    "    return np.array([i[0] for i in models['lNN'].get_weights()[0]]).reshape((128, 128, 3)).mean(axis=-1).reshape((128, 128))\n",
    "\n",
    "def fi_IG_NN(instance, predict_function):\n",
    "    a = analyzer_NN[0].analyze(np.array([instance]))[\n",
    "        0].mean(axis=-1).reshape((128, 128))\n",
    "    return a\n",
    "\n",
    "def fi_LRP_NN(instance, predict_function):\n",
    "    a = analyzer_NN[1].analyze(np.array([instance]))[\n",
    "        0].mean(axis=-1).reshape((128, 128))\n",
    "    return a\n",
    "\n",
    "def fi_IG_lNN(instance, predict_function):\n",
    "    a = analyzer_lNN[0].analyze(np.array([instance]))[0].reshape(\n",
    "        (128, 128, 3)).mean(axis=-1).reshape((128, 128))\n",
    "    return a\n",
    "\n",
    "def fi_LRP_lNN(instance, predict_function):\n",
    "    a = analyzer_lNN[1].analyze(np.array([instance]))[0].reshape(\n",
    "        (128, 128, 3)).mean(axis=-1).reshape((128, 128))\n",
    "    return a\n",
    "\n",
    "def fi_IG_cNN(instance, predict_function):\n",
    "    a = analyzer_cNN[0].analyze(np.array([instance]))[\n",
    "        0].mean(axis=-1).reshape((128, 128))\n",
    "    return a\n",
    "\n",
    "def fi_LRP_cNN(instance, predict_function):\n",
    "    a = analyzer_cNN[1].analyze(np.array([instance]))[\n",
    "        0].mean(axis=-1).reshape((128, 128))\n",
    "    return a\n",
    "\n",
    "def image_no_segmentation(x):\n",
    "    return segmentation.slic(x, n_segments=128*128)\n",
    "\n",
    "explainer = li.LimeImageExplainer(feature_selection='none')\n",
    "\n",
    "def fi_lime(instance, predict_function):\n",
    "    def predict(x):\n",
    "        a = predict_function(x)\n",
    "        a = [[1-j, j] for j in a]\n",
    "        return np.array(a)\n",
    "    b = explainer.explain_instance(instance, predict, labels=(1,),\n",
    "                                   top_labels=None, num_features=128*128, num_samples=100,\n",
    "                                   segmentation_fn=image_no_segmentation).local_exp\n",
    "    b = b[list(b.keys())[0]]\n",
    "    b.sort()\n",
    "    return np.array([i[1] for i in list(b)]).reshape((128, 128))\n",
    "\n",
    "def fi_random(instance, predict_function):\n",
    "    a1 = instance.reshape((128*128*3))\n",
    "    seed = (a1.sum() +\n",
    "            a1.mean())/100\n",
    "    random.seed(seed)\n",
    "    flat = np.array([random.randrange(-1000, 1000) /\n",
    "                     1000 for i in range(len(flat_features))]).reshape((128, 128))\n",
    "    return flat"
   ]
  },
  {
   "cell_type": "markdown",
   "metadata": {},
   "source": [
    "We compute and save the interpretations for easier reproducibility"
   ]
  },
  {
   "cell_type": "code",
   "execution_count": null,
   "metadata": {},
   "outputs": [],
   "source": [
    "from skimage.segmentation import slic\n",
    "predict_functions = {'NN': predict_NN, 'cNN': predict_cNN}\n",
    "segments = []\n",
    "for instance in test_images[:1000]:\n",
    "    segments.append(slic(instance, compactness=10, n_segments=30))\n",
    "\n",
    "for neural_name, neural_type in predict_functions.items():\n",
    "    if neural_name == 'lNN':\n",
    "        fi_techniques = [fi_lNN, fi_IG_lNN, fi_LRP_lNN, fi_lime, fi_random]\n",
    "        fi_names = ['Inherent', 'IG', 'LRP', 'LIME', 'RAND']\n",
    "    elif neural_name == 'NN':\n",
    "        fi_techniques = [fi_IG_NN, fi_LRP_NN, fi_lime, fi_random]\n",
    "        fi_names = ['IG', 'LRP', 'LIME', 'RAND']\n",
    "    else:\n",
    "        fi_techniques = [fi_IG_cNN, fi_LRP_cNN, fi_lime, fi_random]\n",
    "        fi_names = ['IG', 'LRP', 'LIME', 'RAND']\n",
    "\n",
    "    importance_test = []\n",
    "    count = 0\n",
    "    for instance in test_images[:1000]:\n",
    "        importance_instance = []\n",
    "        labels = segments[count]\n",
    "        for fi in fi_techniques:\n",
    "            temp_int = maxabs_scale(fi(instance, neural_type))\n",
    "            final_int = []\n",
    "            for label in range(len(np.unique(labels))):\n",
    "                final_int.append([])\n",
    "            for dim in range(128):\n",
    "                for dim2 in range(128):\n",
    "                    final_int[labels[dim][dim2]].append(temp_int[dim][dim2])\n",
    "\n",
    "            interpretation = []\n",
    "            for label in range(len(np.unique(labels))):\n",
    "                interpretation.append(np.array(final_int[label]).mean())\n",
    "\n",
    "            importance_instance.append(interpretation)\n",
    "        importance_test.append(importance_instance)\n",
    "        count = count + 1\n",
    "\n",
    "    importances = {'segments': np.array(\n",
    "        segments).tolist(), 'test': str(importance_test)}\n",
    "    with open('D3_'+neural_name+'.txt', 'w') as outfile:\n",
    "        print(neural_name)\n",
    "        json.dump(importances, outfile)"
   ]
  },
  {
   "cell_type": "markdown",
   "metadata": {},
   "source": [
    "Our quantitative experiments!"
   ]
  },
  {
   "attachments": {},
   "cell_type": "markdown",
   "metadata": {},
   "source": [
    "## Starting with stability!"
   ]
  },
  {
   "cell_type": "code",
   "execution_count": 14,
   "metadata": {},
   "outputs": [],
   "source": [
    "from inxai import *\n",
    "gm = GlobalFeatureMetric()"
   ]
  },
  {
   "cell_type": "code",
   "execution_count": 15,
   "metadata": {},
   "outputs": [
    {
     "name": "stdout",
     "output_type": "stream",
     "text": [
      "(1000, 128, 128)\n",
      "lNN\n",
      "Inherent 0.9837823033658326\n",
      "IG 0.9836325747511673\n",
      "LRP 0.9836325749603541\n",
      "LIME 0.9908778696015427\n",
      "RAND 0.9914305389096045\n",
      "(1000, 128, 128)\n",
      "NN\n",
      "IG 0.993526883645488\n",
      "LRP 0.9905101877135619\n",
      "LIME 0.9893832608888771\n",
      "RAND 0.9914305389096045\n",
      "(1000, 128, 128)\n",
      "cNN\n",
      "IG 0.9941594401007929\n",
      "LRP 0.9937038974504654\n",
      "LIME 0.9900034496305299\n",
      "RAND 0.9914305389096045\n"
     ]
    }
   ],
   "source": [
    "from tqdm import tqdm\n",
    "\n",
    "stability = {}\n",
    "for neural_name, neural_type in predict_functions.items():\n",
    "    if neural_name == 'lNN':\n",
    "        fi_techniques = [fi_lNN, fi_IG_lNN, fi_LRP_lNN, fi_lime, fi_random]\n",
    "        fi_names = ['Inherent', 'IG', 'LRP', 'LIME', 'RAND']\n",
    "    elif neural_name == 'NN':\n",
    "        fi_techniques = [fi_IG_NN, fi_LRP_NN, fi_lime, fi_random]\n",
    "        fi_names = ['IG', 'LRP', 'LIME', 'RAND']\n",
    "    else:\n",
    "        fi_techniques = [fi_IG_cNN, fi_LRP_cNN, fi_lime, fi_random]\n",
    "        fi_names = ['IG', 'LRP', 'LIME', 'RAND']\n",
    "    meta_names = ['Average', 'Median', 'RuleBased']\n",
    "\n",
    "    path = 'C:\\\\Users\\\\iamollas\\\\Desktop\\\\Altruist New\\\\experiments\\\\quantitative\\\\Weights\\\\D3\\\\'\n",
    "    with open(path+'D3_'+neural_name+'.txt') as json_file:\n",
    "        importances = json.load(json_file)\n",
    "    segments = np.array(importances['segments'])\n",
    "    print(segments.shape)\n",
    "    importance_test = np.array(json.loads(importances['test']))\n",
    "    meta_explain = MetaExplain(None, segments)\n",
    "\n",
    "    #print(importance_test[:,0].shape,test_images.shape)\n",
    "\n",
    "    model_stability = []\n",
    "    for idf,fi_name in enumerate(fi_names):\n",
    "        model_stability.append(gm.stability(pd.DataFrame(test_images[:1000].reshape((1000,128*128*3))),\n",
    "                                            importance_test[:,idf] ,epsilon=50))\n",
    "    stability[neural_name] = model_stability\n",
    "    \n",
    "    print(neural_name)\n",
    "    for idf, stability_score in enumerate(stability[neural_name]):\n",
    "        print(fi_names[idf], np.mean(stability_score))"
   ]
  },
  {
   "cell_type": "code",
   "execution_count": 18,
   "metadata": {},
   "outputs": [
    {
     "name": "stdout",
     "output_type": "stream",
     "text": [
      "lNN\n",
      "Inherent 0.9837823033658326\n",
      "IG 0.9836325747511673\n",
      "LRP 0.9836325749603541\n",
      "LIME 0.9908778696015427\n",
      "RAND 0.9914305389096045\n",
      "NN\n",
      "Inherent 0.993526883645488\n",
      "IG 0.9905101877135619\n",
      "LRP 0.9893832608888771\n",
      "LIME 0.9914305389096045\n",
      "cNN\n",
      "Inherent 0.9941594401007929\n",
      "IG 0.9937038974504654\n",
      "LRP 0.9900034496305299\n",
      "LIME 0.9914305389096045\n"
     ]
    }
   ],
   "source": [
    "for neural_name, neural_type in predict_functions.items():\n",
    "    print(neural_name)\n",
    "    for idf, stability_score in enumerate(stability[neural_name]):\n",
    "        print(fi_names[idf], np.mean(stability_score))"
   ]
  },
  {
   "cell_type": "code",
   "execution_count": 20,
   "metadata": {},
   "outputs": [
    {
     "name": "stdout",
     "output_type": "stream",
     "text": [
      "(1000, 128, 128)\n",
      "Starting evaluation for lNN\n",
      "Average 0.9901351999109289\n",
      "Median 0.986294294549066\n",
      "RuleBased 0.9865925514587129\n",
      "(1000, 128, 128)\n",
      "Starting evaluation for NN\n",
      "Average 0.9952897488152085\n",
      "Median 0.9952612733813893\n",
      "RuleBased 0.9947007338995705\n",
      "(1000, 128, 128)\n",
      "Starting evaluation for cNN\n",
      "Average 0.995895531932499\n",
      "Median 0.9958033499141569\n",
      "RuleBased 0.9953153235714352\n"
     ]
    }
   ],
   "source": [
    "meta_interpretations_test = {}\n",
    "stability_meta = {}\n",
    "for neural_name, neural_type in predict_functions.items():\n",
    "    if neural_name == 'lNN':\n",
    "        fi_techniques = [fi_lNN, fi_IG_lNN, fi_LRP_lNN, fi_lime, fi_random]\n",
    "        fi_names = ['Inherent', 'IG', 'LRP', 'LIME', 'RAND']\n",
    "        meta_interpretations_test['lNN'] = []\n",
    "    elif neural_name == 'NN':\n",
    "        fi_techniques = [fi_IG_NN, fi_LRP_NN, fi_lime, fi_random]\n",
    "        fi_names = ['IG', 'LRP', 'LIME', 'RAND']\n",
    "        meta_interpretations_test['NN'] = []\n",
    "    else:\n",
    "        fi_techniques = [fi_IG_cNN, fi_LRP_cNN, fi_lime, fi_random]\n",
    "        fi_names = ['IG', 'LRP', 'LIME', 'RAND']\n",
    "        meta_interpretations_test['cNN'] = []\n",
    "    meta_names = ['Average', 'Median', 'RuleBased']\n",
    "\n",
    "\n",
    "    path = 'C:\\\\Users\\\\iamollas\\\\Desktop\\\\Altruist New\\\\experiments\\\\quantitative\\\\Weights\\\\D3\\\\'\n",
    "    with open(path+'D3_'+neural_name+'.txt') as json_file:\n",
    "        importances = json.load(json_file)\n",
    "    segments = np.array(importances['segments'])\n",
    "    print(segments.shape)\n",
    "    importance_test = np.array(json.loads(importances['test']))\n",
    "    meta_explain = MetaExplain(None, segments)\n",
    "\n",
    "    print('Starting evaluation for', neural_name)\n",
    "    noise = 'normal'\n",
    "    delta = 0.0001\n",
    "\n",
    "    my_altruist = Altruist(neural_type, train_images, fi_techniques, flat_features,\n",
    "                                   level=noise, delta=delta, data_type='Image')\n",
    "    for j in range(len(test_images[:1000])):\n",
    "        segment = segments[j]\n",
    "        meta_explain.feature_names = [\n",
    "                    str('S_'+str(i)) for i in range(len(np.unique(segment)))]\n",
    "        my_altruist.fis = len(fi_techniques)\n",
    "        a = my_altruist.find_untruthful(test_images[j], importance_test[j], segment)\n",
    "        b = np.array(a[-1])\n",
    "\n",
    "        temp_meta = []\n",
    "        temp_meta.append(meta_explain.meta_avg(b))\n",
    "        temp_meta.append(meta_explain.meta_median(b))\n",
    "        temp_meta.append(meta_explain.meta_rule_based(a[0], a[2], b))\n",
    "        meta_interpretations_test[neural_name].append(temp_meta)\n",
    "    \n",
    "    model_stability = []\n",
    "    for idf,meta_name in enumerate(meta_names):\n",
    "        model_stability.append(gm.stability(pd.DataFrame(test_images[:1000].reshape((1000,128*128*3))),\n",
    "        np.array(meta_interpretations_test[neural_name])[:,idf] ,epsilon=50))\n",
    "\n",
    "    stability_meta[neural_name] = model_stability\n",
    "\n",
    "    for idf, stability_score in enumerate(stability_meta[neural_name]):\n",
    "        print(meta_names[idf], np.mean(stability_score))"
   ]
  },
  {
   "cell_type": "code",
   "execution_count": 21,
   "metadata": {},
   "outputs": [
    {
     "data": {
      "text/plain": [
       "<matplotlib.axes._subplots.AxesSubplot at 0x24a972a0b48>"
      ]
     },
     "execution_count": 21,
     "metadata": {},
     "output_type": "execute_result"
    },
    {
     "data": {
      "image/png": "[encoded data removed]",
      "text/plain": [
       "<Figure size 432x288 with 1 Axes>"
      ]
     },
     "metadata": {
      "needs_background": "light"
     },
     "output_type": "display_data"
    }
   ],
   "source": [
    "import seaborn as sns\n",
    "lip_df = pd.DataFrame({'IG':stability['cNN'][0], 'LRP':stability['cNN'][1], 'LIME':stability['cNN'][2], # 'RAND':stability['cNN'][3], \n",
    "                        'Average':stability_meta['cNN'][0], 'Median':stability_meta['cNN'][1], 'MetaLion':stability_meta['cNN'][2]})\n",
    "sns.boxplot(x=\"variable\", y=\"value\", data=pd.melt(lip_df))"
   ]
  },
  {
   "cell_type": "code",
   "execution_count": 22,
   "metadata": {},
   "outputs": [],
   "source": [
    "lip_df_lnn = pd.DataFrame({'IG':stability['lNN'][1], 'LRP':stability['lNN'][2], 'LIME':stability['lNN'][3], 'RAND':stability['lNN'][4]})\n",
    "lip_df_nn = pd.DataFrame({'IG':stability['NN'][0], 'LRP':stability['NN'][1], 'LIME':stability['NN'][2], 'RAND':stability['NN'][3]})\n",
    "lip_df_cnn = pd.DataFrame({'IG':stability['cNN'][0], 'LRP':stability['cNN'][1], 'LIME':stability['cNN'][2], 'RAND':stability['cNN'][3]})"
   ]
  },
  {
   "cell_type": "code",
   "execution_count": 25,
   "metadata": {},
   "outputs": [
    {
     "name": "stdout",
     "output_type": "stream",
     "text": [
      "IG 0.7553028721754538\n",
      "LRP 0.7511142071161857\n",
      "LIME 0.8297617897971631\n",
      "RAND 1.0\n"
     ]
    }
   ],
   "source": [
    "consistency = {}\n",
    "for idf,fi_name in enumerate(['IG', 'LRP', 'LIME', 'RAND']):\n",
    "    all_importance_tests = []\n",
    "    for neural_name, neural_type in predict_functions.items():\n",
    "\n",
    "        path = 'C:\\\\Users\\\\iamollas\\\\Desktop\\\\Altruist New\\\\experiments\\\\quantitative\\\\Weights\\\\D3\\\\'\n",
    "        with open(path+'D3_'+neural_name+'.txt') as json_file:\n",
    "            importances = json.load(json_file)\n",
    "        segments = np.array(importances['segments'])\n",
    "        importance_test = np.array(json.loads(importances['test']))\n",
    "\n",
    "        if neural_name == 'lNN':\n",
    "            all_importance_tests.append(importance_test[:1000,1:])\n",
    "        else:\n",
    "            all_importance_tests.append(importance_test[:1000])\n",
    "    all_importance_tests = np.array(all_importance_tests)\n",
    "    consistency[fi_name] = gm.consistency(all_importance_tests[:,:,idf])\n",
    "    print(fi_name, np.mean(consistency[fi_name]))"
   ]
  },
  {
   "cell_type": "code",
   "execution_count": 26,
   "metadata": {},
   "outputs": [
    {
     "name": "stdout",
     "output_type": "stream",
     "text": [
      "Average 0.8361085791776848\n",
      "Median 0.7847739035982357\n",
      "RuleBased 0.8115512949271204\n"
     ]
    }
   ],
   "source": [
    "consistency_meta = {}\n",
    "for idf, meta_name in enumerate(meta_names):\n",
    "    all_importance_tests = []\n",
    "    for neural_name, neural_type in predict_functions.items():\n",
    "        all_importance_tests.append(np.array(meta_interpretations_test[neural_name]))\n",
    "    all_importance_tests = np.array(all_importance_tests)\n",
    "    consistency_meta[meta_name] = gm.consistency(all_importance_tests[:,:,idf])\n",
    "    print(meta_name, np.mean(consistency_meta[meta_name]))"
   ]
  },
  {
   "cell_type": "code",
   "execution_count": 27,
   "metadata": {},
   "outputs": [
    {
     "data": {
      "text/plain": [
       "<matplotlib.axes._subplots.AxesSubplot at 0x24aa2470a08>"
      ]
     },
     "execution_count": 27,
     "metadata": {},
     "output_type": "execute_result"
    },
    {
     "data": {
      "image/png": "[encoded data removed]",
      "text/plain": [
       "<Figure size 432x288 with 1 Axes>"
      ]
     },
     "metadata": {
      "needs_background": "light"
     },
     "output_type": "display_data"
    }
   ],
   "source": [
    "import seaborn as sns\n",
    "con_df = pd.DataFrame({'IG':consistency['IG'], 'LRP':consistency['LRP'], 'LIME':consistency['LIME'], #'RAND':consistency['RAND'], \n",
    "                        'Average':consistency_meta['Average'], 'Median':consistency_meta['Median'], 'MetaLion':consistency_meta['RuleBased']})\n",
    "sns.boxplot(x=\"variable\", y=\"value\", data=pd.melt(con_df))"
   ]
  },
  {
   "cell_type": "code",
   "execution_count": 28,
   "metadata": {},
   "outputs": [],
   "source": [
    "import seaborn as sns\n",
    "con_df_models = pd.DataFrame({'IG':consistency['IG'], 'LRP':consistency['LRP'], 'LIME':consistency['LIME'], 'RAND':consistency['RAND']})\n",
    "    "
   ]
  },
  {
   "cell_type": "code",
   "execution_count": 29,
   "metadata": {},
   "outputs": [],
   "source": [
    "#This is a tough one! Measuring AUPRC for the meta in inXAI technique"
   ]
  },
  {
   "cell_type": "code",
   "execution_count": 43,
   "metadata": {},
   "outputs": [
    {
     "data": {
      "text/plain": [
       "((1000, 49152), 16384)"
      ]
     },
     "execution_count": 43,
     "metadata": {},
     "output_type": "execute_result"
    }
   ],
   "source": [
    "test_images[:1000].reshape((1000,128*128*3)).shape, len(flat_features)"
   ]
  },
  {
   "cell_type": "code",
   "execution_count": null,
   "metadata": {},
   "outputs": [],
   "source": [
    "importance_test[0][1]"
   ]
  },
  {
   "cell_type": "code",
   "execution_count": null,
   "metadata": {},
   "outputs": [],
   "source": [
    "from sklearn.compose import ColumnTransformer\n",
    "pd_x_test = pd.DataFrame(test_images[:1000].reshape((1000,128*128*3)), columns=['S'+str(i) for i in range(128*128*3)])\n",
    "ct = ColumnTransformer([('_INXAI_normal_noise_perturber', NormalNoisePerturber(scale=2),pd_x_test.columns)])\n",
    "auprc = {}\n",
    "for neural_name, neural_type in predict_functions.items():\n",
    "    if neural_name == 'lNN':\n",
    "        fi_techniques = [fi_lNN, fi_IG_lNN, fi_LRP_lNN, fi_lime, fi_random]\n",
    "        fi_names = ['Inherent', 'IG', 'LRP', 'LIME', 'RAND']\n",
    "    elif neural_name == 'NN':\n",
    "        fi_techniques = [fi_IG_NN, fi_LRP_NN, fi_lime, fi_random]\n",
    "        fi_names = ['IG', 'LRP', 'LIME', 'RAND']\n",
    "    else:\n",
    "        fi_techniques = [fi_IG_cNN, fi_LRP_cNN, fi_lime, fi_random]\n",
    "        fi_names = ['IG', 'LRP', 'LIME', 'RAND']\n",
    "    meta_names = ['Average', 'Median', 'RuleBased']\n",
    "\n",
    "    path = 'C:\\\\Users\\\\iamollas\\\\Desktop\\\\Altruist New\\\\experiments\\\\quantitative\\\\Weights\\\\D3\\\\'\n",
    "    with open(path+'D3_'+neural_name+'.txt') as json_file:\n",
    "        importances = json.load(json_file)\n",
    "    segments = np.array(importances['segments'])\n",
    "    print(segments.shape)\n",
    "    importance_test = np.array(json.loads(importances['test']))\n",
    "    meta_explain = MetaExplain(None, segments)\n",
    "\n",
    "    new_tests = []\n",
    "    for instan in range(1000):\n",
    "        new_test = []\n",
    "        for inter in range(len(fi_techniques)):\n",
    "            new_interpretation = []\n",
    "            for i in range(128):\n",
    "                for j in range(128):\n",
    "                    new_interpretation.append(importance_test[instan][inter][segments[instan][i][j]])\n",
    "            new_interpretation = np.array(new_interpretation).reshape((128,128))\n",
    "            new_interpretation = np.repeat(new_interpretation[:, :, np.newaxis], 3, axis=2)\n",
    "            new_test.append(new_interpretation)\n",
    "        new_tests.append(new_test)\n",
    "    new_tests = np.array(new_tests)\n",
    "    print(importance_test.shape)\n",
    "    print('Starting evaluation for', neural_name)\n",
    "    model_auprc = []\n",
    "    for idf,fi_name in tqdm(enumerate(fi_names)):\n",
    "        print('watch me!')\n",
    "        mean_fi = np.array(new_tests[:,idf]).reshape((1000,128*128*3)).mean(axis=0)\n",
    "        model_auprc.append(gm.gradual_perturbation(model=models[neural_name], X=pd_x_test, y=test_labels[:1000], column_transformer=ct, importances_orig=mean_fi, \n",
    "                                        resolution=50,  count_per_step=10, plot=False, task='c', reshape=(128,128,3)))\n",
    "    auprc[neural_name] = model_auprc"
   ]
  },
  {
   "cell_type": "code",
   "execution_count": 102,
   "metadata": {},
   "outputs": [
    {
     "name": "stdout",
     "output_type": "stream",
     "text": [
      "lNN\n",
      "Inherent 0.16884000000000005\n",
      "IG 0.17028800000000005\n",
      "LRP 0.16953800000000002\n",
      "LIME 0.16910200000000003\n",
      "RAND 0.16932800000000003\n",
      "NN\n",
      "IG 0.07918599999999999\n",
      "LRP 0.07890399999999999\n",
      "LIME 0.07941999999999999\n",
      "RAND 0.078224\n",
      "cNN\n",
      "IG -0.048026000000000055\n",
      "LRP -0.048224000000000045\n",
      "LIME -0.04738600000000005\n",
      "RAND -0.04773600000000004\n"
     ]
    }
   ],
   "source": [
    "for neural_name, neural_type in predict_functions.items():\n",
    "    if neural_name == 'lNN':\n",
    "        fi_techniques = [fi_lNN, fi_IG_lNN, fi_LRP_lNN, fi_lime, fi_random]\n",
    "        fi_names = ['Inherent', 'IG', 'LRP', 'LIME', 'RAND']\n",
    "    elif neural_name == 'NN':\n",
    "        fi_techniques = [fi_IG_NN, fi_LRP_NN, fi_lime, fi_random]\n",
    "        fi_names = ['IG', 'LRP', 'LIME', 'RAND']\n",
    "    else:\n",
    "        fi_techniques = [fi_IG_cNN, fi_LRP_cNN, fi_lime, fi_random]\n",
    "        fi_names = ['IG', 'LRP', 'LIME', 'RAND']\n",
    "    print(neural_name)\n",
    "    for idf, auprc_score in enumerate(auprc[neural_name]):\n",
    "        print(fi_names[idf], np.mean(auprc_score))"
   ]
  },
  {
   "cell_type": "code",
   "execution_count": 103,
   "metadata": {},
   "outputs": [],
   "source": [
    "from sklearn.metrics import auc\n",
    "\n",
    "auprc_df_lnn = pd.DataFrame({'IG':[auc(np.linspace(0, 1, 50),auprc['lNN'][1])], 'LRP':[auc(np.linspace(0, 1, 50),auprc['lNN'][2])], 'LIME':[auc(np.linspace(0, 1, 50),auprc['lNN'][3])], 'RAND':[auc(np.linspace(0, 1, 50),auprc['lNN'][4])]})\n",
    "auprc_df_nn = pd.DataFrame({'IG':[auc(np.linspace(0, 1, 50),auprc['NN'][0])], 'LRP':[auc(np.linspace(0, 1, 50),auprc['NN'][1])], 'LIME':[auc(np.linspace(0, 1, 50),auprc['NN'][2])], 'RAND':[auc(np.linspace(0, 1, 50),auprc['NN'][3])]})\n",
    "auprc_df_cnn = pd.DataFrame({'IG':[auc(np.linspace(0, 1, 50),auprc['cNN'][0])], 'LRP':[auc(np.linspace(0, 1, 50),auprc['cNN'][1])], 'LIME':[auc(np.linspace(0, 1, 50),auprc['cNN'][2])], 'RAND':[auc(np.linspace(0, 1, 50),auprc['cNN'][3])]})"
   ]
  },
  {
   "cell_type": "code",
   "execution_count": 104,
   "metadata": {},
   "outputs": [],
   "source": [
    "cons_alpha = 0.2\n",
    "lip_alpha=20\n",
    "auc_alpha=0.1"
   ]
  },
  {
   "cell_type": "code",
   "execution_count": 105,
   "metadata": {},
   "outputs": [
    {
     "data": {
      "text/html": [
       "<div>\n",
       "<style scoped>\n",
       "    .dataframe tbody tr th:only-of-type {\n",
       "        vertical-align: middle;\n",
       "    }\n",
       "\n",
       "    .dataframe tbody tr th {\n",
       "        vertical-align: top;\n",
       "    }\n",
       "\n",
       "    .dataframe thead th {\n",
       "        text-align: right;\n",
       "    }\n",
       "</style>\n",
       "<table border=\"1\" class=\"dataframe\">\n",
       "  <thead>\n",
       "    <tr style=\"text-align: right;\">\n",
       "      <th></th>\n",
       "      <th>IG</th>\n",
       "      <th>LRP</th>\n",
       "      <th>LIME</th>\n",
       "      <th>RAND</th>\n",
       "    </tr>\n",
       "  </thead>\n",
       "  <tbody>\n",
       "    <tr>\n",
       "      <th>0</th>\n",
       "      <td>20.516897</td>\n",
       "      <td>20.521841</td>\n",
       "      <td>20.642122</td>\n",
       "      <td>20.693745</td>\n",
       "    </tr>\n",
       "  </tbody>\n",
       "</table>\n",
       "</div>"
      ],
      "text/plain": [
       "          IG        LRP       LIME       RAND\n",
       "0  20.516897  20.521841  20.642122  20.693745"
      ]
     },
     "execution_count": 105,
     "metadata": {},
     "output_type": "execute_result"
    }
   ],
   "source": [
    "weights = cons_alpha*con_df_models.iloc[33]+lip_alpha*lip_df_lnn.iloc[33]+auc_alpha/auprc_df_lnn\n",
    "weights"
   ]
  },
  {
   "attachments": {},
   "cell_type": "markdown",
   "metadata": {},
   "source": [
    "Evaluation of inXAI now!"
   ]
  },
  {
   "cell_type": "code",
   "execution_count": null,
   "metadata": {},
   "outputs": [],
   "source": [
    "[np.array(i) for i in importance_test[idf][1:]]"
   ]
  },
  {
   "cell_type": "code",
   "execution_count": 158,
   "metadata": {},
   "outputs": [
    {
     "name": "stdout",
     "output_type": "stream",
     "text": [
      "(1000, 128, 128)\n",
      "(1000,)\n",
      "Starting evaluation for NN\n",
      "inXAI 0.9952985336952266\n",
      "(1000, 128, 128)\n",
      "(1000,)\n",
      "Starting evaluation for cNN\n",
      "inXAI 0.9959012507809802\n"
     ]
    }
   ],
   "source": [
    "\n",
    "inxai_stabilities = []\n",
    "for neural_name, neural_type in predict_functions.items():\n",
    "    if neural_name == 'lNN':\n",
    "        fi_techniques = [fi_lNN, fi_IG_lNN, fi_LRP_lNN, fi_lime, fi_random]\n",
    "    elif neural_name == 'NN':\n",
    "        fi_techniques = [fi_IG_NN, fi_LRP_NN, fi_lime, fi_random]\n",
    "    else:\n",
    "        fi_techniques = [fi_IG_cNN, fi_LRP_cNN, fi_lime, fi_random]\n",
    "\n",
    "    path = 'C:\\\\Users\\\\iamollas\\\\Desktop\\\\Altruist New\\\\experiments\\\\quantitative\\\\Weights\\\\D3\\\\'\n",
    "    with open(path+'D3_'+neural_name+'.txt') as json_file:\n",
    "        importances = json.load(json_file)\n",
    "    segments = np.array(importances['segments'])\n",
    "    print(segments.shape)\n",
    "    importance_test = np.array(json.loads(importances['test']))\n",
    "\n",
    "    inxai = []\n",
    "    for idf, instance in enumerate(test_images[:1000]):\n",
    "        if neural_name == 'lNN':\n",
    "            weights = cons_alpha*con_df_models.iloc[idf]+lip_alpha*lip_df_lnn.iloc[idf]+auc_alpha/auprc_df_lnn\n",
    "            met = weights.dot(np.array([np.array(i) for i in importance_test[idf][1:]]))/weights.sum().sum()\n",
    "        elif neural_name == 'NN':\n",
    "            weights = cons_alpha*con_df_models.iloc[idf]+lip_alpha*lip_df_nn.iloc[idf]+auc_alpha/auprc_df_nn\n",
    "            met = weights.dot([np.array(i) for i in importance_test[idf]])/weights.sum().sum()\n",
    "        else:\n",
    "            weights = cons_alpha*con_df_models.iloc[idf]+lip_alpha*lip_df_cnn.iloc[idf]+auc_alpha/auprc_df_cnn\n",
    "            met = weights.dot([np.array(i) for i in importance_test[idf]])/weights.sum().sum()\n",
    "        inxai.append(met.values[0])\n",
    "    print(np.array(inxai).shape)\n",
    "    print('Starting evaluation for', neural_name)\n",
    "    inxai_stability = gm.stability(pd.DataFrame(test_images[:1000].reshape((1000,128*128*3))), np.array(inxai) ,epsilon=50)\n",
    "    print('inXAI', np.mean(inxai_stability))\n",
    "    inxai_stabilities.append(np.mean(inxai_stability))"
   ]
  },
  {
   "cell_type": "code",
   "execution_count": 141,
   "metadata": {},
   "outputs": [
    {
     "name": "stdout",
     "output_type": "stream",
     "text": [
      "(1000, 128, 128)\n",
      "(1000, 128, 128)\n",
      "(1000, 128, 128)\n",
      "inXAI 0.8554274926152196\n"
     ]
    }
   ],
   "source": [
    "all_importance_tests = []\n",
    "for neural_name, neural_type in predict_functions.items():\n",
    "    path = 'C:\\\\Users\\\\iamollas\\\\Desktop\\\\Altruist New\\\\experiments\\\\quantitative\\\\Weights\\\\D3\\\\'\n",
    "    with open(path+'D3_'+neural_name+'.txt') as json_file:\n",
    "        importances = json.load(json_file)\n",
    "    segments = np.array(importances['segments'])\n",
    "    print(segments.shape)\n",
    "    importance_test = np.array(json.loads(importances['test']))\n",
    "    \n",
    "    testss = []\n",
    "    for idf, instance in enumerate(test_images[:1000]):\n",
    "        if neural_name == 'lNN':\n",
    "            weights = cons_alpha*con_df_models.iloc[idf]+lip_alpha*lip_df_lnn.iloc[idf]+auc_alpha/auprc_df_lnn\n",
    "            met = weights.dot([np.array(i) for i in importance_test[idf][1:]])/weights.sum().sum()\n",
    "        elif neural_name == 'NN':\n",
    "            weights = cons_alpha*con_df_models.iloc[idf]+lip_alpha*lip_df_nn.iloc[idf]+auc_alpha/auprc_df_nn\n",
    "            met = weights.dot([np.array(i) for i in importance_test[idf]])/weights.sum().sum()\n",
    "        else:\n",
    "            weights = cons_alpha*con_df_models.iloc[idf]+lip_alpha*lip_df_cnn.iloc[idf]+auc_alpha/auprc_df_cnn\n",
    "            met = weights.dot([np.array(i) for i in importance_test[idf]])/weights.sum().sum()\n",
    "        testss.append(met.values[0])\n",
    "    all_importance_tests.append(testss)\n",
    "all_importance_tests = np.array(all_importance_tests)\n",
    "inxai_consistency = gm.consistency(all_importance_tests)\n",
    "print('inXAI', np.mean(inxai_consistency))"
   ]
  },
  {
   "attachments": {},
   "cell_type": "markdown",
   "metadata": {},
   "source": [
    "## Truthfulness and complexity evaluation"
   ]
  },
  {
   "cell_type": "code",
   "execution_count": null,
   "metadata": {},
   "outputs": [],
   "source": [
    "import time\n",
    "predict_functions = {'lNN': predict_lNN, 'NN': predict_NN, 'cNN': predict_cNN}\n",
    "for neural_name, neural_type in predict_functions.items():\n",
    "    if neural_name == 'lNN':\n",
    "        fi_techniques = [fi_lNN, fi_IG_lNN, fi_LRP_lNN, fi_lime, fi_random]\n",
    "        fi_names = ['Inherent', 'IG', 'LRP', 'LIME', 'RAND']\n",
    "    elif neural_name == 'NN':\n",
    "        fi_techniques = [fi_IG_NN, fi_LRP_NN, fi_lime, fi_random]\n",
    "        fi_names = ['IG', 'LRP', 'LIME', 'RAND']\n",
    "    else:\n",
    "        fi_techniques = [fi_IG_cNN, fi_LRP_cNN, fi_lime, fi_random]\n",
    "        fi_names = ['IG', 'LRP', 'LIME', 'RAND']\n",
    "    meta_names = ['Average', 'Median', 'GlobalPCA',\n",
    "                  'LocalPCA', 'GlobalKPCA', 'LocalKPCA', 'RuleBased']\n",
    "    meta_names = ['Average', 'Median', 'RuleBased']\n",
    "\n",
    "    path = 'C:\\\\Users\\\\iamollas\\\\Desktop\\\\Altruist New\\\\experiments\\\\quantitative\\\\Weights\\\\D3\\\\'\n",
    "    with open(path+'D3_'+neural_name+'.txt') as json_file:\n",
    "        importances = json.load(json_file)\n",
    "    segments = np.array(importances['segments'])\n",
    "    print(segments.shape)\n",
    "    importance_test = np.array(json.loads(importances['test']))\n",
    "    meta_explain = MetaExplain(None, segments)\n",
    "\n",
    "    ts = time.time()\n",
    "    print('Starting evaluation for', neural_name)\n",
    "    step = 0\n",
    "    for noise in ['weak', 'normal', 'strong']:\n",
    "        for delta in [0, 0.0001, 0.001, 0.01]: \n",
    "            print('Step', step+1, 'out of 12')\n",
    "            step = step + 1\n",
    "            my_altruist = Altruist(neural_type, train_images, fi_techniques, flat_features,\n",
    "                                   level=noise, delta=delta, data_type='Image')\n",
    "            fis_scores = []\n",
    "            meta_scores = []\n",
    "            nzw_scores = []\n",
    "            nzw_scores_delta = []\n",
    "            for i in fi_techniques:\n",
    "                fis_scores.append([])\n",
    "                nzw_scores.append([])\n",
    "                nzw_scores_delta.append([])\n",
    "            for i in meta_names:\n",
    "                meta_scores.append([])\n",
    "                nzw_scores.append([])\n",
    "                nzw_scores_delta.append([])\n",
    "            for j in range(len(test_images[:1000])):\n",
    "                segment = segments[j]\n",
    "                meta_explain.feature_names = [\n",
    "                    str('S_'+str(i)) for i in range(len(np.unique(segment)))]\n",
    "\n",
    "                my_altruist.fis = len(fi_techniques)\n",
    "                a = my_altruist.find_untruthful(\n",
    "                    test_images[j], importance_test[j], segment)\n",
    "                for i in range(len(importance_test[j])):\n",
    "                    cnzw = 0\n",
    "                    cnzwt = 0\n",
    "                    for k in importance_test[j][i]:\n",
    "                        if abs(k) > 0:\n",
    "                            cnzw += 1\n",
    "                        if abs(k) > delta:\n",
    "                            cnzwt += 1\n",
    "                    nzw_scores[i].append(cnzw)\n",
    "                    nzw_scores_delta[i].append(cnzwt)\n",
    "                b = np.array(a[-1])\n",
    "                for i in range(len(a[0])):\n",
    "                    fis_scores[i].append(len(a[0][i]))\n",
    "                temp_meta = []\n",
    "                temp_meta.append(meta_explain.meta_avg(b))\n",
    "                temp_meta.append(meta_explain.meta_median(b))\n",
    "                temp_meta.append(meta_explain.meta_rule_based(a[0], a[2], b))\n",
    "                for i in range(len(temp_meta)):\n",
    "                    cnzw = 0\n",
    "                    cnzwt = 0\n",
    "                    for k in temp_meta[i]:\n",
    "                        if abs(k) > 0:\n",
    "                            cnzw += 1\n",
    "                        if abs(k) > delta:\n",
    "                            cnzwt += 1\n",
    "                    nzw_scores[i+len(importance_test[j])].append(cnzw)\n",
    "                    nzw_scores_delta[i+len(importance_test[j])].append(cnzwt)\n",
    "                my_altruist.fis = len(meta_names)\n",
    "                a = my_altruist.find_untruthful(\n",
    "                    test_images[j], temp_meta, segment)\n",
    "                for i in range(len(a[0])):\n",
    "                    meta_scores[i].append(len(a[0][i]))\n",
    "            row = [neural_name, noise, delta]\n",
    "            for fis_score in fis_scores:\n",
    "                row.append(np.array(fis_score).mean())\n",
    "            for meta_score in meta_scores:\n",
    "                row.append(np.array(meta_score).mean())\n",
    "            with open('D3_'+neural_name+'.csv', 'a', encoding='UTF8') as f:\n",
    "                writer = csv.writer(f)\n",
    "                writer.writerow(row)\n",
    "            row = [neural_name, noise, delta]\n",
    "            all_names = fi_names+meta_names\n",
    "            for aname in range(len(all_names)):\n",
    "                row.append(np.array(nzw_scores[aname]).mean())\n",
    "                row.append(np.array(nzw_scores_delta[aname]).mean())\n",
    "            with open('D3_NZW_'+neural_name+'.csv', 'a', encoding='UTF8') as f:\n",
    "                writer = csv.writer(f)\n",
    "                writer.writerow(row)"
   ]
  },
  {
   "attachments": {},
   "cell_type": "markdown",
   "metadata": {},
   "source": [
    "For the inxai framework!"
   ]
  },
  {
   "cell_type": "code",
   "execution_count": 149,
   "metadata": {},
   "outputs": [
    {
     "name": "stdout",
     "output_type": "stream",
     "text": [
      "(1000, 128, 128)\n",
      "Starting evaluation for lNN\n",
      "Step 1 out of 12\n",
      "Step 2 out of 12\n",
      "Step 3 out of 12\n",
      "Step 4 out of 12\n",
      "Step 5 out of 12\n",
      "Step 6 out of 12\n",
      "Step 7 out of 12\n",
      "Step 8 out of 12\n",
      "Step 9 out of 12\n",
      "Step 10 out of 12\n",
      "Step 11 out of 12\n",
      "Step 12 out of 12\n",
      "(1000, 128, 128)\n",
      "Starting evaluation for NN\n",
      "Step 1 out of 12\n",
      "Step 2 out of 12\n",
      "Step 3 out of 12\n",
      "Step 4 out of 12\n",
      "Step 5 out of 12\n",
      "Step 6 out of 12\n",
      "Step 7 out of 12\n",
      "Step 8 out of 12\n",
      "Step 9 out of 12\n",
      "Step 10 out of 12\n",
      "Step 11 out of 12\n",
      "Step 12 out of 12\n",
      "(1000, 128, 128)\n",
      "Starting evaluation for cNN\n",
      "Step 1 out of 12\n",
      "Step 2 out of 12\n",
      "Step 3 out of 12\n",
      "Step 4 out of 12\n",
      "Step 5 out of 12\n",
      "Step 6 out of 12\n",
      "Step 7 out of 12\n",
      "Step 8 out of 12\n",
      "Step 9 out of 12\n",
      "Step 10 out of 12\n",
      "Step 11 out of 12\n",
      "Step 12 out of 12\n"
     ]
    }
   ],
   "source": [
    "for neural_name, neural_type in predict_functions.items():\n",
    "    if neural_name == 'lNN':\n",
    "        fi_techniques = [fi_random]\n",
    "        fi_names = ['inXAI']\n",
    "    elif neural_name == 'NN':\n",
    "        fi_techniques = [fi_random]\n",
    "        fi_names = ['inXAI']\n",
    "    else:\n",
    "        fi_techniques = [fi_random]\n",
    "        fi_names = ['inXAI']\n",
    "\n",
    "\n",
    "    path = 'C:\\\\Users\\\\iamollas\\\\Desktop\\\\Altruist New\\\\experiments\\\\quantitative\\\\Weights\\\\D3\\\\'\n",
    "    with open(path+'D3_'+neural_name+'.txt') as json_file:\n",
    "        importances = json.load(json_file)\n",
    "    segments = np.array(importances['segments'])\n",
    "    print(segments.shape)\n",
    "    importance_test = np.array(json.loads(importances['test']))\n",
    "    meta_explain = MetaExplain(None, segments)\n",
    "\n",
    "    \n",
    "    testss = []\n",
    "    for idf, instance in enumerate(test_images[:1000]):\n",
    "        if neural_name == 'lNN':\n",
    "            weights = cons_alpha*con_df_models.iloc[idf]+lip_alpha*lip_df_lnn.iloc[idf]+auc_alpha/auprc_df_lnn\n",
    "            met = weights.dot([np.array(i) for i in importance_test[idf][1:]])/weights.sum().sum()\n",
    "        elif neural_name == 'NN':\n",
    "            weights = cons_alpha*con_df_models.iloc[idf]+lip_alpha*lip_df_nn.iloc[idf]+auc_alpha/auprc_df_nn\n",
    "            met = weights.dot([np.array(i) for i in importance_test[idf]])/weights.sum().sum()\n",
    "        else:\n",
    "            weights = cons_alpha*con_df_models.iloc[idf]+lip_alpha*lip_df_cnn.iloc[idf]+auc_alpha/auprc_df_cnn\n",
    "            met = weights.dot([np.array(i) for i in importance_test[idf]])/weights.sum().sum()\n",
    "        testss.append([met.values[0]])\n",
    "    importance_test = np.array(testss)\n",
    "\n",
    "    print('Starting evaluation for', neural_name)\n",
    "    step = 0\n",
    "    for noise in ['weak', 'normal', 'strong']:\n",
    "        for delta in [0 , 0.0001, 0.001, 0.01]:\n",
    "            print('Step', step+1, 'out of 12')\n",
    "            step = step + 1\n",
    "            my_altruist = Altruist(neural_type, train_images, fi_techniques, flat_features,\n",
    "                                   level=noise, delta=delta, data_type='Image')\n",
    "            fis_scores = []\n",
    "            meta_scores = []\n",
    "            nzw_scores = []\n",
    "            nzw_scores_delta = []\n",
    "            for i in fi_techniques:\n",
    "                fis_scores.append([])\n",
    "                nzw_scores.append([])\n",
    "                nzw_scores_delta.append([])\n",
    "            for i in meta_names:\n",
    "                meta_scores.append([])\n",
    "                nzw_scores.append([])\n",
    "                nzw_scores_delta.append([])\n",
    "            for j in range(len(test_images[:1000])):\n",
    "                segment = segments[j]\n",
    "                meta_explain.feature_names = [\n",
    "                    str('S_'+str(i)) for i in range(len(np.unique(segment)))]\n",
    "\n",
    "                my_altruist.fis = len(fi_techniques)\n",
    "                a = my_altruist.find_untruthful(test_images[j], importance_test[j], segment)\n",
    "                for i in range(len(importance_test[j])):\n",
    "                    cnzw = 0\n",
    "                    cnzwt = 0\n",
    "                    for k in importance_test[j][i]:\n",
    "                        if abs(k) > 0:\n",
    "                            cnzw += 1\n",
    "                        if abs(k) > delta:\n",
    "                            cnzwt += 1\n",
    "                    nzw_scores[i].append(cnzw)\n",
    "                    nzw_scores_delta[i].append(cnzwt)\n",
    "                b = np.array(a[-1])\n",
    "                for i in range(len(a[0])):\n",
    "                    fis_scores[i].append(len(a[0][i]))\n",
    "                \n",
    "            count = 0\n",
    "            row = [neural_name, noise, delta]\n",
    "            for fis_score in fis_scores:\n",
    "                row.append(np.array(fis_score).mean())\n",
    "            with open('D3_inxai'+neural_name+'.csv', 'a', encoding='UTF8') as f:\n",
    "                writer = csv.writer(f)\n",
    "                writer.writerow(row)\n",
    "            row = [neural_name, noise, delta]\n",
    "            all_names = fi_names\n",
    "            for aname in range(len(all_names)):\n",
    "                row.append(np.array(nzw_scores[aname]).mean())\n",
    "                row.append(np.array(nzw_scores_delta[aname]).mean())\n",
    "            with open('D3_NZW_inxai'+neural_name+'.csv', 'a', encoding='UTF8') as f:\n",
    "                writer = csv.writer(f)\n",
    "                writer.writerow(row)"
   ]
  },
  {
   "cell_type": "markdown",
   "metadata": {},
   "source": [
    "Ablation Study"
   ]
  },
  {
   "cell_type": "code",
   "execution_count": null,
   "metadata": {},
   "outputs": [],
   "source": [
    "import time\n",
    "predict_functions = {'NN': predict_NN, 'cNN': predict_cNN}\n",
    "for neural_name, neural_type in predict_functions.items():\n",
    "    fi_techniques = [fi_LRP_NN, fi_lime, fi_random]\n",
    "    fi_names = ['LRP', 'LIME', 'RAND']\n",
    "    meta_names = ['Average', 'Median', 'RuleBased']\n",
    "\n",
    "    path = 'C:\\\\Users\\\\iamollas\\\\Desktop\\\\Altruist New\\\\experiments\\\\quantitative\\\\Weights\\\\D3\\\\'\n",
    "    with open(path+'D3_'+neural_name+'.txt') as json_file:\n",
    "        importances = json.load(json_file)\n",
    "    segments = np.array(importances['segments'])\n",
    "    print(segments.shape)\n",
    "    importance_test = np.array(json.loads(importances['test']))\n",
    "    importance_test = np.delete(importance_test, 3, axis=1)\n",
    "    meta_explain = MetaExplain(None, segments)\n",
    "\n",
    "    ts = time.time()\n",
    "    print('Starting evaluation for', neural_name)\n",
    "    step = 0\n",
    "    for noise in ['normal']:\n",
    "        for delta in [0.0001]:\n",
    "            step = step + 1\n",
    "            my_altruist = Altruist(neural_type, train_images, fi_techniques, flat_features,\n",
    "                                   level=noise, delta=delta, data_type='Image')\n",
    "            fis_scores = []\n",
    "            meta_scores = []\n",
    "            nzw_scores = []\n",
    "            nzw_scores_delta = []\n",
    "            for i in fi_techniques:\n",
    "                fis_scores.append([])\n",
    "                nzw_scores.append([])\n",
    "                nzw_scores_delta.append([])\n",
    "            for i in meta_names:\n",
    "                meta_scores.append([])\n",
    "                nzw_scores.append([])\n",
    "                nzw_scores_delta.append([])\n",
    "            for j in range(len(test_images[:1000])):\n",
    "                segment = segments[j]\n",
    "                meta_explain.feature_names = [\n",
    "                    str('S_'+str(i)) for i in range(len(np.unique(segment)))]\n",
    "\n",
    "                my_altruist.fis = len(fi_techniques)\n",
    "                a = my_altruist.find_untruthful(\n",
    "                    test_images[j], importance_test[j], segment)\n",
    "                for i in range(len(importance_test[j])):\n",
    "                    cnzw = 0\n",
    "                    cnzwt = 0\n",
    "                    for k in importance_test[j][i]:\n",
    "                        if abs(k) > 0:\n",
    "                            cnzw += 1\n",
    "                        if abs(k) > delta:\n",
    "                            cnzwt += 1\n",
    "                    nzw_scores[i].append(cnzw)\n",
    "                    nzw_scores_delta[i].append(cnzwt)\n",
    "                b = np.array(a[-1])\n",
    "                for i in range(len(a[0])):\n",
    "                    fis_scores[i].append(len(a[0][i]))\n",
    "                temp_meta = []\n",
    "                temp_meta.append(meta_explain.meta_avg(b))\n",
    "                temp_meta.append(meta_explain.meta_median(b))\n",
    "                temp_meta.append(meta_explain.meta_rule_based(a[0], a[2], b))\n",
    "                for i in range(len(temp_meta)):\n",
    "                    cnzw = 0\n",
    "                    cnzwt = 0\n",
    "                    for k in temp_meta[i]:\n",
    "                        if abs(k) > 0:\n",
    "                            cnzw += 1\n",
    "                        if abs(k) > delta:\n",
    "                            cnzwt += 1\n",
    "                    nzw_scores[i+len(importance_test[j])].append(cnzw)\n",
    "                    nzw_scores_delta[i+len(importance_test[j])].append(cnzwt)\n",
    "                my_altruist.fis = len(meta_names)\n",
    "                a = my_altruist.find_untruthful(\n",
    "                    test_images[j], temp_meta, segment)\n",
    "                for i in range(len(a[0])):\n",
    "                    meta_scores[i].append(len(a[0][i]))\n",
    "            row = [neural_name, noise, delta]\n",
    "            for fis_score in fis_scores:\n",
    "                row.append(np.array(fis_score).mean())\n",
    "            for meta_score in meta_scores:\n",
    "                row.append(np.array(meta_score).mean())\n",
    "            with open('D3_Ablation_Study_'+neural_name+'.csv', 'a', encoding='UTF8') as f:\n",
    "                writer = csv.writer(f)\n",
    "                writer.writerow(row)\n",
    "            row = [neural_name, noise, delta]\n",
    "            print('\\t NZW:')\n",
    "            all_names = fi_names+meta_names\n",
    "            for aname in range(len(all_names)):\n",
    "                row.append(np.array(nzw_scores[aname]).mean())\n",
    "                row.append(np.array(nzw_scores_delta[aname]).mean())\n",
    "            with open('D3_NZW_Ablation_Study_'+neural_name+'.csv', 'a', encoding='UTF8') as f:\n",
    "                writer = csv.writer(f)\n",
    "                writer.writerow(row)\n"
   ]
  },
  {
   "attachments": {},
   "cell_type": "markdown",
   "metadata": {},
   "source": [
    "And for inXAI"
   ]
  },
  {
   "cell_type": "code",
   "execution_count": 156,
   "metadata": {},
   "outputs": [
    {
     "name": "stdout",
     "output_type": "stream",
     "text": [
      "(1000, 128, 128)\n",
      "Starting evaluation for 3 NN\n",
      "Step 1 out of 12\n",
      "(1000, 128, 128)\n",
      "Starting evaluation for 3 cNN\n",
      "Step 1 out of 12\n"
     ]
    }
   ],
   "source": [
    "predict_functions = {'NN': predict_NN, 'cNN': predict_cNN}\n",
    "for neural_name, neural_type in predict_functions.items():\n",
    "    if neural_name == 'lNN':\n",
    "        fi_techniques = [fi_random]\n",
    "        fi_names = ['inXAI']\n",
    "    elif neural_name == 'NN':\n",
    "        fi_techniques = [fi_random]\n",
    "        fi_names = ['inXAI']\n",
    "    else:\n",
    "        fi_techniques = [fi_random]\n",
    "        fi_names = ['inXAI']\n",
    "\n",
    "\n",
    "    path = 'C:\\\\Users\\\\iamollas\\\\Desktop\\\\Altruist New\\\\experiments\\\\quantitative\\\\Weights\\\\D3\\\\'\n",
    "    with open(path+'D3_'+neural_name+'.txt') as json_file:\n",
    "        importances = json.load(json_file)\n",
    "    segments = np.array(importances['segments'])\n",
    "    print(segments.shape)\n",
    "    importance_test = np.array(json.loads(importances['test']))\n",
    "    meta_explain = MetaExplain(None, segments)\n",
    "\n",
    "    fi = 3\n",
    "    importance_test = np.delete(importance_test, fi, axis=1)\n",
    "    testss = []\n",
    "    for idf, instance in enumerate(test_images[:1000]):\n",
    "        if neural_name == 'NN':\n",
    "            weights = cons_alpha*con_df_models.iloc[idf]+lip_alpha*lip_df_nn.iloc[idf]+auc_alpha/auprc_df_nn\n",
    "            weights = weights.drop(weights.columns[[fi]],axis = 1)\n",
    "            met = weights.dot([np.array(i) for i in importance_test[idf]])/weights.sum().sum()\n",
    "        else:\n",
    "            weights = cons_alpha*con_df_models.iloc[idf]+lip_alpha*lip_df_cnn.iloc[idf]+auc_alpha/auprc_df_cnn\n",
    "            weights = weights.drop(weights.columns[[fi]],axis = 1)\n",
    "            met = weights.dot([np.array(i) for i in importance_test[idf]])/weights.sum().sum()\n",
    "        testss.append([met.values[0]])\n",
    "    importance_test = np.array(testss)\n",
    "\n",
    "    print('Starting evaluation for', fi, neural_name)\n",
    "    step = 0\n",
    "    for noise in ['normal']:\n",
    "        for delta in [0.0001]:\n",
    "            print('Step', step+1, 'out of 12')\n",
    "            step = step + 1\n",
    "            my_altruist = Altruist(neural_type, train_images, fi_techniques, flat_features,\n",
    "                                   level=noise, delta=delta, data_type='Image')\n",
    "            fis_scores = []\n",
    "            meta_scores = []\n",
    "            nzw_scores = []\n",
    "            nzw_scores_delta = []\n",
    "            for i in fi_techniques:\n",
    "                fis_scores.append([])\n",
    "                nzw_scores.append([])\n",
    "                nzw_scores_delta.append([])\n",
    "            for i in meta_names:\n",
    "                meta_scores.append([])\n",
    "                nzw_scores.append([])\n",
    "                nzw_scores_delta.append([])\n",
    "            for j in range(len(test_images[:1000])):\n",
    "                segment = segments[j]\n",
    "                meta_explain.feature_names = [\n",
    "                    str('S_'+str(i)) for i in range(len(np.unique(segment)))]\n",
    "\n",
    "                my_altruist.fis = len(fi_techniques)\n",
    "                a = my_altruist.find_untruthful(test_images[j], importance_test[j], segment)\n",
    "                for i in range(len(importance_test[j])):\n",
    "                    cnzw = 0\n",
    "                    cnzwt = 0\n",
    "                    for k in importance_test[j][i]:\n",
    "                        if abs(k) > 0:\n",
    "                            cnzw += 1\n",
    "                        if abs(k) > delta:\n",
    "                            cnzwt += 1\n",
    "                    nzw_scores[i].append(cnzw)\n",
    "                    nzw_scores_delta[i].append(cnzwt)\n",
    "                b = np.array(a[-1])\n",
    "                for i in range(len(a[0])):\n",
    "                    fis_scores[i].append(len(a[0][i]))\n",
    "                \n",
    "            count = 0\n",
    "            row = [neural_name, noise, delta]\n",
    "            for fis_score in fis_scores:\n",
    "                row.append(np.array(fis_score).mean())\n",
    "            with open('D3_Ablation_inxai'+neural_name+'.csv', 'a', encoding='UTF8') as f:\n",
    "                writer = csv.writer(f)\n",
    "                writer.writerow(row)\n",
    "            row = [neural_name, noise, delta]\n",
    "            all_names = fi_names\n",
    "            for aname in range(len(all_names)):\n",
    "                row.append(np.array(nzw_scores[aname]).mean())\n",
    "                row.append(np.array(nzw_scores_delta[aname]).mean())\n",
    "            with open('D3_Ablation_NZW_inxai'+neural_name+'.csv', 'a', encoding='UTF8') as f:\n",
    "                writer = csv.writer(f)\n",
    "                writer.writerow(row)"
   ]
  },
  {
   "cell_type": "markdown",
   "metadata": {},
   "source": [
    "Qualitative Example"
   ]
  },
  {
   "cell_type": "code",
   "execution_count": 22,
   "metadata": {},
   "outputs": [
    {
     "name": "stdout",
     "output_type": "stream",
     "text": [
      "(1000, 128, 128)\n"
     ]
    }
   ],
   "source": [
    "import time\n",
    "neural_name = 'cNN'\n",
    "fi_techniques = [fi_IG_cNN, fi_LRP_cNN, fi_lime, fi_random]\n",
    "fi_names = ['IG', 'LRP', 'LIME', 'RAND']\n",
    "\n",
    "meta_names = ['Average', 'Median', 'RuleBased']\n",
    "\n",
    "path = 'C:\\\\Users\\\\iamollas\\\\Desktop\\\\Altruist New\\\\experiments\\\\quantitative\\\\Weights\\\\D3\\\\'\n",
    "with open(path+'D3_'+neural_name+'.txt') as json_file:\n",
    "    importances = json.load(json_file)\n",
    "segments = np.array(importances['segments'])\n",
    "importance_test = np.array(json.loads(importances['test']))\n",
    "meta_explain = MetaExplain(None, segments)"
   ]
  },
  {
   "cell_type": "markdown",
   "metadata": {},
   "source": [
    "We chose the instance 398"
   ]
  },
  {
   "cell_type": "code",
   "execution_count": null,
   "metadata": {},
   "outputs": [],
   "source": [
    "noise = 'normal'\n",
    "delta = 0.0001\n",
    "my_altruist = Altruist(predict_cNN, train_images, fi_techniques, flat_features,\n",
    "                       level=noise, delta=delta, data_type='Image')\n",
    "\n",
    "j = 398\n",
    "segment = segments[j]\n",
    "meta_explain.feature_names = [str('S_'+str(i))\n",
    "                              for i in range(len(np.unique(segment)))]\n",
    "\n",
    "test_imp = np.array([k/max(abs(np.array(k))) for k in importance_test[j]])\n",
    "scores = [len(segment)]\n",
    "my_altruist.fis = len(fi_techniques)\n",
    "a = my_altruist.find_untruthful(test_images[j], test_imp, segment)\n",
    "b = np.array(a[-1])\n",
    "for i in range(len(a[0])):\n",
    "    scores.append(len(a[0][i]))\n",
    "temp_meta = []\n",
    "temp_meta.append(meta_explain.meta_avg(b))\n",
    "temp_meta.append(meta_explain.meta_median(b))\n",
    "temp_meta.append(meta_explain.meta_rule_based(a[0], a[2], b))\n",
    "my_altruist.fis = len(meta_names)\n",
    "a2 = my_altruist.find_untruthful(test_images[j], temp_meta, segment)\n",
    "for i in range(len(a2[0])):\n",
    "    scores.append(len(a2[0][i]))"
   ]
  },
  {
   "cell_type": "code",
   "execution_count": 25,
   "metadata": {},
   "outputs": [
    {
     "data": {
      "text/plain": [
       "(1, 0.6056221)"
      ]
     },
     "execution_count": 25,
     "metadata": {},
     "output_type": "execute_result"
    }
   ],
   "source": [
    "y_preds_tests = predict_cNN(test_images)\n",
    "idd = 398\n",
    "segment = segments[idd]\n",
    "test_labels[idd], y_preds_tests[idd]"
   ]
  },
  {
   "cell_type": "markdown",
   "metadata": {},
   "source": [
    "The original image"
   ]
  },
  {
   "cell_type": "code",
   "execution_count": 26,
   "metadata": {},
   "outputs": [
    {
     "data": {
      "text/plain": [
       "<matplotlib.image.AxesImage at 0x178ae018d08>"
      ]
     },
     "execution_count": 26,
     "metadata": {},
     "output_type": "execute_result"
    },
    {
     "data": {
      "image/png": "[encoded data removed]",
      "text/plain": [
       "<Figure size 432x288 with 1 Axes>"
      ]
     },
     "metadata": {
      "needs_background": "light"
     },
     "output_type": "display_data"
    }
   ],
   "source": [
    "import matplotlib.pyplot as plt\n",
    "image_copy = test_images[idd].copy()\n",
    "plt.imshow(image_copy)"
   ]
  },
  {
   "cell_type": "code",
   "execution_count": 29,
   "metadata": {},
   "outputs": [],
   "source": [
    "temp = a[3][0].copy() #Selecting here the interpretation technique. Selected is the IG\n",
    "temp = temp/np.abs(temp).max()"
   ]
  },
  {
   "cell_type": "code",
   "execution_count": 495,
   "metadata": {},
   "outputs": [],
   "source": [
    "image_copy = test_images[idd].copy()\n",
    "for seg in np.unique(segment):\n",
    "    weight = temp[seg]\n",
    "    for dim in range(128):\n",
    "        indexes = np.where(segment[dim] == seg)[0]\n",
    "        for index in indexes:\n",
    "            if weight > 0:\n",
    "                image_copy[dim][index][0] = image_copy[dim][index][k] + weight\n",
    "            elif weight < 0:\n",
    "                image_copy[dim][index][2] = image_copy[dim][index][k] + abs(weight)"
   ]
  },
  {
   "cell_type": "code",
   "execution_count": 496,
   "metadata": {},
   "outputs": [
    {
     "name": "stderr",
     "output_type": "stream",
     "text": [
      "Clipping input data to the valid range for imshow with RGB data ([0..1] for floats or [0..255] for integers).\n"
     ]
    },
    {
     "data": {
      "text/plain": [
       "<matplotlib.image.AxesImage at 0x11ccd1d0d88>"
      ]
     },
     "execution_count": 496,
     "metadata": {},
     "output_type": "execute_result"
    },
    {
     "data": {
      "image/png": "[encoded data removed]",
      "text/plain": [
       "<Figure size 432x288 with 1 Axes>"
      ]
     },
     "metadata": {
      "needs_background": "light"
     },
     "output_type": "display_data"
    }
   ],
   "source": [
    "plt.imshow(image_copy)"
   ]
  },
  {
   "cell_type": "code",
   "execution_count": 510,
   "metadata": {},
   "outputs": [
    {
     "name": "stderr",
     "output_type": "stream",
     "text": [
      "Clipping input data to the valid range for imshow with RGB data ([0..1] for floats or [0..255] for integers).\n"
     ]
    },
    {
     "data": {
      "text/plain": [
       "<matplotlib.image.AxesImage at 0x11cce620ac8>"
      ]
     },
     "execution_count": 510,
     "metadata": {},
     "output_type": "execute_result"
    },
    {
     "data": {
      "image/png": "[encoded data removed]",
      "text/plain": [
       "<Figure size 432x288 with 1 Axes>"
      ]
     },
     "metadata": {
      "needs_background": "light"
     },
     "output_type": "display_data"
    }
   ],
   "source": [
    "from skimage.segmentation import mark_boundaries\n",
    "plt.imshow(mark_boundaries(image_copy, segment,\n",
    "                           mode='inner', background_label=16))\n"
   ]
  }
 ],
 "metadata": {
  "interpreter": {
   "hash": "8aca7ccb854c18237101de464af2a105a1e34c126d9f191f97f5e47786f68003"
  },
  "kernelspec": {
   "display_name": "lionets",
   "language": "python",
   "name": "python3"
  },
  "language_info": {
   "codemirror_mode": {
    "name": "ipython",
    "version": 3
   },
   "file_extension": ".py",
   "mimetype": "text/x-python",
   "name": "python",
   "nbconvert_exporter": "python",
   "pygments_lexer": "ipython3",
   "version": "3.7.6"
  }
 },
 "nbformat": 4,
 "nbformat_minor": 2
}
